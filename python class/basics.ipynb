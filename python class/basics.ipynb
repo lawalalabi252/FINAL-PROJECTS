{
 "cells": [
  {
   "cell_type": "code",
   "execution_count": 3,
   "id": "499e4fc2",
   "metadata": {},
   "outputs": [
    {
     "name": "stdout",
     "output_type": "stream",
     "text": [
      "40\n"
     ]
    }
   ],
   "source": [
    "print(40)"
   ]
  },
  {
   "cell_type": "code",
   "execution_count": 6,
   "id": "d6a9ff4d",
   "metadata": {},
   "outputs": [
    {
     "name": "stdout",
     "output_type": "stream",
     "text": [
      "5.0\n"
     ]
    }
   ],
   "source": [
    "print(15/3)"
   ]
  },
  {
   "cell_type": "code",
   "execution_count": null,
   "id": "985f376f",
   "metadata": {},
   "outputs": [],
   "source": []
  },
  {
   "cell_type": "code",
   "execution_count": 2,
   "id": "f3c5cdeb",
   "metadata": {},
   "outputs": [
    {
     "name": "stdout",
     "output_type": "stream",
     "text": [
      "python\n"
     ]
    }
   ],
   "source": [
    "print (\"python\")"
   ]
  },
  {
   "cell_type": "code",
   "execution_count": 3,
   "id": "91b8ada4",
   "metadata": {},
   "outputs": [
    {
     "name": "stdout",
     "output_type": "stream",
     "text": [
      "5\n",
      "0.75\n",
      "440\n",
      "34\n",
      "26\n",
      "30\n",
      "3\n",
      "3.2857142857142856\n",
      "2\n"
     ]
    },
    {
     "data": {
      "text/plain": [
       "16.0"
      ]
     },
     "execution_count": 3,
     "metadata": {},
     "output_type": "execute_result"
    }
   ],
   "source": [
    "print(2+3)\n",
    "print(3/4)\n",
    "print(55*8)\n",
    "print(44-10)\n",
    "print(2+4*6)    \n",
    "print((2+3)*6)\n",
    "print(23//7)\n",
    "print(23/ 7)\n",
    "print(23%7)\n",
    "( 5-1)*((7+1))/(3-1)"
   ]
  },
  {
   "cell_type": "code",
   "execution_count": 4,
   "id": "7e14fa22",
   "metadata": {},
   "outputs": [
    {
     "name": "stdout",
     "output_type": "stream",
     "text": [
      "what is your name?\n"
     ]
    }
   ],
   "source": [
    "\n",
    " print('what is your name?')\n",
    "  \n"
   ]
  },
  {
   "cell_type": "code",
   "execution_count": 7,
   "id": "52c34506",
   "metadata": {},
   "outputs": [
    {
     "name": "stdout",
     "output_type": "stream",
     "text": [
      "lawal\n"
     ]
    }
   ],
   "source": [
    " MyName= input()"
   ]
  },
  {
   "cell_type": "code",
   "execution_count": null,
   "id": "d2abfa80",
   "metadata": {},
   "outputs": [],
   "source": [
    "fist_name ='john smith'\n",
    "Age =20\n",
    "print(Age)\n",
    "print(firstname)"
   ]
  },
  {
   "cell_type": "code",
   "execution_count": 8,
   "id": "2d437aca",
   "metadata": {},
   "outputs": [
    {
     "name": "stdout",
     "output_type": "stream",
     "text": [
      "what's your name\n"
     ]
    }
   ],
   "source": [
    "print(\"what's your name\")"
   ]
  },
  {
   "cell_type": "code",
   "execution_count": null,
   "id": "09adda2b",
   "metadata": {},
   "outputs": [],
   "source": []
  },
  {
   "cell_type": "code",
   "execution_count": null,
   "id": "bb518059",
   "metadata": {},
   "outputs": [],
   "source": []
  },
  {
   "cell_type": "code",
   "execution_count": null,
   "id": "5ec50460",
   "metadata": {},
   "outputs": [],
   "source": []
  },
  {
   "cell_type": "code",
   "execution_count": null,
   "id": "84f9f198",
   "metadata": {},
   "outputs": [],
   "source": []
  },
  {
   "cell_type": "code",
   "execution_count": null,
   "id": "879564d3",
   "metadata": {},
   "outputs": [],
   "source": [
    "  name =input(\"what is your name? \")\n",
    "    "
   ]
  },
  {
   "cell_type": "code",
   "execution_count": null,
   "id": "665f1f9e",
   "metadata": {},
   "outputs": [],
   "source": []
  },
  {
   "cell_type": "code",
   "execution_count": null,
   "id": "83305bc2",
   "metadata": {},
   "outputs": [],
   "source": [
    "birth_year=input(\"enter your birth year: \")"
   ]
  },
  {
   "cell_type": "code",
   "execution_count": null,
   "id": "7d8d49cc",
   "metadata": {},
   "outputs": [],
   "source": [
    "first = input(\"first: \")\n",
    "second = input(\"second: \")\n",
    "sum= first + second\n",
    "print(sum)                 "
   ]
  },
  {
   "cell_type": "code",
   "execution_count": null,
   "id": "6b607e0d",
   "metadata": {},
   "outputs": [],
   "source": [
    " 'alice'+'bob'\n",
    " 'Alice'* 5    \n",
    "\n"
   ]
  },
  {
   "cell_type": "code",
   "execution_count": 9,
   "id": "f082db87",
   "metadata": {},
   "outputs": [
    {
     "name": "stdout",
     "output_type": "stream",
     "text": [
      "20\n"
     ]
    }
   ],
   "source": [
    "Age=20\n",
    "print(Age)"
   ]
  },
  {
   "cell_type": "code",
   "execution_count": 10,
   "id": "3fa54d4f",
   "metadata": {},
   "outputs": [
    {
     "name": "stdout",
     "output_type": "stream",
     "text": [
      "hello\n"
     ]
    }
   ],
   "source": [
    "Spam= 'hello'\n",
    "print(Spam)\n",
    "     "
   ]
  },
  {
   "cell_type": "code",
   "execution_count": null,
   "id": "dc179e83",
   "metadata": {},
   "outputs": [],
   "source": [
    "print('hello world')"
   ]
  },
  {
   "cell_type": "code",
   "execution_count": null,
   "id": "d1fff8e7",
   "metadata": {},
   "outputs": [],
   "source": [
    "print('what is your name? ')"
   ]
  },
  {
   "cell_type": "code",
   "execution_count": null,
   "id": "5e64af8e",
   "metadata": {},
   "outputs": [],
   "source": [
    "Myname=input()"
   ]
  },
  {
   "cell_type": "code",
   "execution_count": null,
   "id": "688b5b1a",
   "metadata": {},
   "outputs": [],
   "source": [
    "print('it is good to meet you, ' + Myname)"
   ]
  },
  {
   "cell_type": "code",
   "execution_count": null,
   "id": "61e2b2a1",
   "metadata": {},
   "outputs": [],
   "source": [
    "print('the length of your name is:')"
   ]
  },
  {
   "cell_type": "code",
   "execution_count": null,
   "id": "1263279b",
   "metadata": {},
   "outputs": [],
   "source": [
    "print(len(Myname))"
   ]
  },
  {
   "cell_type": "code",
   "execution_count": null,
   "id": "de1b86c9",
   "metadata": {},
   "outputs": [],
   "source": [
    "print('what is your Age? ')"
   ]
  },
  {
   "cell_type": "code",
   "execution_count": null,
   "id": "996b3734",
   "metadata": {},
   "outputs": [],
   "source": [
    "MyAge=input()"
   ]
  },
  {
   "cell_type": "code",
   "execution_count": null,
   "id": "4e76ef38",
   "metadata": {},
   "outputs": [],
   "source": [
    "print('you will be '+ MyAge  + ' in a year. ')"
   ]
  },
  {
   "cell_type": "code",
   "execution_count": null,
   "id": "73bb59a2",
   "metadata": {},
   "outputs": [],
   "source": []
  },
  {
   "cell_type": "code",
   "execution_count": null,
   "id": "4f643816",
   "metadata": {},
   "outputs": [],
   "source": []
  },
  {
   "cell_type": "code",
   "execution_count": null,
   "id": "040e1182",
   "metadata": {},
   "outputs": [],
   "source": [
    "print('what is your name? ')"
   ]
  },
  {
   "cell_type": "code",
   "execution_count": null,
   "id": "9b9f3247",
   "metadata": {},
   "outputs": [],
   "source": [
    "print('it is good to meet you? ' + Myname)"
   ]
  },
  {
   "cell_type": "code",
   "execution_count": null,
   "id": "f4eccc71",
   "metadata": {},
   "outputs": [],
   "source": [
    "Myname=input()"
   ]
  },
  {
   "cell_type": "code",
   "execution_count": null,
   "id": "04d374c6",
   "metadata": {},
   "outputs": [],
   "source": [
    "len(Myname)"
   ]
  },
  {
   "cell_type": "code",
   "execution_count": null,
   "id": "09e43bca",
   "metadata": {},
   "outputs": [],
   "source": [
    "print('what is your Age? ')"
   ]
  },
  {
   "cell_type": "code",
   "execution_count": null,
   "id": "d302f631",
   "metadata": {},
   "outputs": [],
   "source": [
    "Age=input()"
   ]
  },
  {
   "cell_type": "code",
   "execution_count": null,
   "id": "96692f38",
   "metadata": {},
   "outputs": [],
   "source": [
    "print('i will be ' + Age   + ' in a year')"
   ]
  },
  {
   "cell_type": "code",
   "execution_count": null,
   "id": "7ac717e2",
   "metadata": {},
   "outputs": [],
   "source": [
    "int(32)"
   ]
  },
  {
   "cell_type": "code",
   "execution_count": null,
   "id": "e6db969e",
   "metadata": {},
   "outputs": [],
   "source": [
    "str(-3.15)"
   ]
  },
  {
   "cell_type": "code",
   "execution_count": null,
   "id": "98257f5c",
   "metadata": {},
   "outputs": [],
   "source": [
    "int(1.25)"
   ]
  },
  {
   "cell_type": "code",
   "execution_count": null,
   "id": "decd1f4d",
   "metadata": {},
   "outputs": [],
   "source": [
    "float('3.14')"
   ]
  },
  {
   "cell_type": "code",
   "execution_count": null,
   "id": "a8c99505",
   "metadata": {},
   "outputs": [],
   "source": [
    "float('10')"
   ]
  },
  {
   "cell_type": "code",
   "execution_count": null,
   "id": "87c7d634",
   "metadata": {},
   "outputs": [],
   "source": [
    "spam=input()"
   ]
  },
  {
   "cell_type": "code",
   "execution_count": null,
   "id": "0f701157",
   "metadata": {},
   "outputs": [],
   "source": [
    "spam\n"
   ]
  },
  {
   "cell_type": "code",
   "execution_count": null,
   "id": "4861390f",
   "metadata": {},
   "outputs": [],
   "source": [
    "spam*10/5"
   ]
  },
  {
   "cell_type": "code",
   "execution_count": null,
   "id": "a1111268",
   "metadata": {},
   "outputs": [],
   "source": [
    "print('hello bayo')"
   ]
  },
  {
   "cell_type": "code",
   "execution_count": null,
   "id": "bb5a2f5f",
   "metadata": {},
   "outputs": [],
   "source": [
    "name=\"roger\""
   ]
  },
  {
   "cell_type": "code",
   "execution_count": null,
   "id": "e69c0546",
   "metadata": {},
   "outputs": [],
   "source": [
    "if name=='bayo'"
   ]
  },
  {
   "cell_type": "code",
   "execution_count": null,
   "id": "0f27004d",
   "metadata": {},
   "outputs": [],
   "source": [
    "if 5<2:\n",
    "    print('five is greater than two!')\n",
    "else:\n",
    "    print('two is less than five')\n",
    "   "
   ]
  },
  {
   "cell_type": "code",
   "execution_count": null,
   "id": "59a6f34d",
   "metadata": {},
   "outputs": [],
   "source": [
    "# this a comment\n",
    "#  print('hello world')"
   ]
  },
  {
   "cell_type": "code",
   "execution_count": 1,
   "id": "0499e37d",
   "metadata": {},
   "outputs": [
    {
     "name": "stdout",
     "output_type": "stream",
     "text": [
      "5\n",
      "kane\n"
     ]
    }
   ],
   "source": [
    "x= 5\n",
    "y='kane'\n",
    "print(x)\n",
    "print(y)"
   ]
  },
  {
   "cell_type": "code",
   "execution_count": null,
   "id": "ea2c2c60",
   "metadata": {},
   "outputs": [],
   "source": [
    "x= 4\n",
    "x='los'\n",
    "print(x)"
   ]
  },
  {
   "cell_type": "code",
   "execution_count": 2,
   "id": "ede7814b",
   "metadata": {},
   "outputs": [],
   "source": [
    "x = str(3)\n",
    "y = int(4)\n",
    "z = float(3)"
   ]
  },
  {
   "cell_type": "code",
   "execution_count": 3,
   "id": "770faa12",
   "metadata": {},
   "outputs": [
    {
     "name": "stdout",
     "output_type": "stream",
     "text": [
      "3\n",
      "4\n",
      "3.0\n"
     ]
    }
   ],
   "source": [
    "print(x)\n",
    "print(y)\n",
    "print(z)"
   ]
  },
  {
   "cell_type": "code",
   "execution_count": 4,
   "id": "a6a14ce2",
   "metadata": {},
   "outputs": [
    {
     "name": "stdout",
     "output_type": "stream",
     "text": [
      "john\n"
     ]
    }
   ],
   "source": [
    "my_var='john'\n",
    "print(my_var)"
   ]
  },
  {
   "cell_type": "code",
   "execution_count": null,
   "id": "9e9e8338",
   "metadata": {},
   "outputs": [],
   "source": [
    "Myvar ='kemi'\n",
    "print(Myvar)"
   ]
  },
  {
   "cell_type": "code",
   "execution_count": 5,
   "id": "03c891e4",
   "metadata": {},
   "outputs": [
    {
     "name": "stdout",
     "output_type": "stream",
     "text": [
      "orange\n",
      "mango\n",
      "pawpaw\n"
     ]
    }
   ],
   "source": [
    "x, y, z = \"orange\" , \"mango\", \"pawpaw\"\n",
    "\n",
    "print(x)\n",
    "print(y)\n",
    "print(z)"
   ]
  },
  {
   "cell_type": "code",
   "execution_count": null,
   "id": "4ada61fd",
   "metadata": {},
   "outputs": [],
   "source": [
    "fruits=[ \"orange\",\"mango\",\"pawpaw\"]\n",
    "x , y , z = fruits\n",
    "print(x)\n",
    "print(y)\n",
    "print(z)"
   ]
  },
  {
   "cell_type": "code",
   "execution_count": null,
   "id": "f976c62a",
   "metadata": {},
   "outputs": [],
   "source": [
    "\n",
    "{}"
   ]
  },
  {
   "cell_type": "code",
   "execution_count": 6,
   "id": "4c48eda1",
   "metadata": {},
   "outputs": [
    {
     "name": "stdout",
     "output_type": "stream",
     "text": [
      "python is awesome\n"
     ]
    }
   ],
   "source": [
    "x = \"python\"\n",
    "y = \"is\"\n",
    "z = \"awesome\"\n",
    "print(x , y ,  z)"
   ]
  },
  {
   "cell_type": "code",
   "execution_count": null,
   "id": "cbf4e79f",
   "metadata": {},
   "outputs": [],
   "source": [
    "x = 'python'\n",
    "y = 'is'\n",
    "z = 'awesome'\n",
    "print(x + y + z)"
   ]
  },
  {
   "cell_type": "code",
   "execution_count": null,
   "id": "c6130212",
   "metadata": {},
   "outputs": [],
   "source": [
    "x = 5\n",
    "y = 10\n",
    "print(x+y)"
   ]
  },
  {
   "cell_type": "code",
   "execution_count": null,
   "id": "a481a939",
   "metadata": {},
   "outputs": [],
   "source": [
    "x = \"awesome\"\n",
    "def myfunc():\n",
    "    print(\" python is \" + x)\n",
    "myfunc()   "
   ]
  },
  {
   "cell_type": "code",
   "execution_count": null,
   "id": "f5d9bd6d",
   "metadata": {},
   "outputs": [],
   "source": [
    " print('what is your Age? ')"
   ]
  },
  {
   "cell_type": "code",
   "execution_count": null,
   "id": "7bf246d1",
   "metadata": {},
   "outputs": [],
   "source": [
    "age=input()\n"
   ]
  },
  {
   "cell_type": "code",
   "execution_count": null,
   "id": "e584b097",
   "metadata": {},
   "outputs": [],
   "source": [
    "print('i will be ' +  age  + 'in a year')"
   ]
  },
  {
   "cell_type": "code",
   "execution_count": null,
   "id": "f46b000f",
   "metadata": {},
   "outputs": [],
   "source": [
    "fruits = [\"mango\", \"pawpaw\", \"orange\"] \n",
    "x , y, z = fruits\n",
    "print(x)\n",
    "print(y)\n",
    "print(z)"
   ]
  },
  {
   "cell_type": "code",
   "execution_count": null,
   "id": "b9743e96",
   "metadata": {},
   "outputs": [],
   "source": [
    "x = [\"orange\",\"mango\",\"pawpaw\"]\n",
    "print(x)"
   ]
  },
  {
   "cell_type": "code",
   "execution_count": null,
   "id": "6c3fcf1a",
   "metadata": {},
   "outputs": [],
   "source": [
    "print('i will be'+ Age +  'in a year')"
   ]
  },
  {
   "cell_type": "code",
   "execution_count": null,
   "id": "a8701fe9",
   "metadata": {},
   "outputs": [],
   "source": [
    "x = (\"mango\", \"orange\",\"pawpaw\")\n",
    "print(x)"
   ]
  },
  {
   "cell_type": "code",
   "execution_count": null,
   "id": "3fd2a8ed",
   "metadata": {},
   "outputs": [],
   "source": []
  },
  {
   "cell_type": "code",
   "execution_count": null,
   "id": "0f2b5fca",
   "metadata": {},
   "outputs": [],
   "source": [
    "x = {\"apple\",\"banana\", \"cherry\"}\n",
    "print(x)"
   ]
  },
  {
   "cell_type": "code",
   "execution_count": null,
   "id": "d16353fa",
   "metadata": {},
   "outputs": [],
   "source": [
    "x = ({\"apple\", \"banana\", \"cherry\"})\n",
    "print(x)"
   ]
  },
  {
   "cell_type": "code",
   "execution_count": null,
   "id": "aa24d635",
   "metadata": {},
   "outputs": [],
   "source": [
    "x = 5\n",
    "print(type(x))"
   ]
  },
  {
   "cell_type": "code",
   "execution_count": null,
   "id": "1385731f",
   "metadata": {},
   "outputs": [],
   "source": [
    "x = 1\n",
    "y = 3.8\n",
    "z = 1j\n",
    "print(type(x))\n",
    "print(type(y))\n",
    "print(type(z))"
   ]
  },
  {
   "cell_type": "code",
   "execution_count": null,
   "id": "d75a28ef",
   "metadata": {},
   "outputs": [],
   "source": [
    "x = 1\n",
    "y = 35657999643\n",
    "z = -43666\n",
    "print(type(x))\n",
    "print(type(y))\n",
    "print(type(z))"
   ]
  },
  {
   "cell_type": "code",
   "execution_count": null,
   "id": "392f0ef0",
   "metadata": {},
   "outputs": [],
   "source": [
    "x = 1\n",
    "y = 1.0\n",
    "z = -36.56\n",
    "print(type(x))\n",
    "print(type(y))\n",
    "print(type(z))"
   ]
  },
  {
   "cell_type": "code",
   "execution_count": null,
   "id": "fd3ccfd5",
   "metadata": {},
   "outputs": [],
   "source": [
    "x = 35e3\n",
    "y = 12E4\n",
    "z = 67.7e100\n",
    "print(type(x))\n",
    "print(type(y))\n",
    "print(type(z))"
   ]
  },
  {
   "cell_type": "code",
   "execution_count": null,
   "id": "2191701c",
   "metadata": {},
   "outputs": [],
   "source": [
    "x = 3+5j\n",
    "y = 5j\n",
    "z = -4j\n",
    "print(type(x))\n",
    "print(type(y))\n",
    "print(type(z))\n",
    "    \n",
    "    \n",
    "    "
   ]
  },
  {
   "cell_type": "code",
   "execution_count": null,
   "id": "f2af8360",
   "metadata": {},
   "outputs": [],
   "source": [
    "a = \"\"\"Data science does the combination of data analysis, software engineering  and machine learning to craete statistical model.\n",
    "\n",
    "\"\"\"\n",
    "print(a)"
   ]
  },
  {
   "cell_type": "code",
   "execution_count": null,
   "id": "253d9970",
   "metadata": {},
   "outputs": [],
   "source": [
    "a = \"hello,world\"\n",
    "print(a[0])"
   ]
  },
  {
   "cell_type": "code",
   "execution_count": null,
   "id": "b88357ef",
   "metadata": {},
   "outputs": [],
   "source": [
    "for x in   \"banana\":\n",
    "    print(x)"
   ]
  },
  {
   "cell_type": "code",
   "execution_count": null,
   "id": "7f92a309",
   "metadata": {},
   "outputs": [],
   "source": [
    "print(len (a))"
   ]
  },
  {
   "cell_type": "code",
   "execution_count": null,
   "id": "1a771a58",
   "metadata": {},
   "outputs": [],
   "source": [
    "txt = \"the best  things in life are not free\"\n",
    "print(\"free\" in txt)"
   ]
  },
  {
   "cell_type": "code",
   "execution_count": null,
   "id": "f9576242",
   "metadata": {},
   "outputs": [],
   "source": [
    "txt = \"the best things in life are not free\"\n",
    "if \"free\" in the txt:\n",
    "    print(\"yes\",\"free is present.\")\n",
    " "
   ]
  },
  {
   "cell_type": "code",
   "execution_count": null,
   "id": "e0ff910a",
   "metadata": {},
   "outputs": [],
   "source": [
    "var= 'lara is a good girl'\n",
    "var.split(' ')"
   ]
  },
  {
   "cell_type": "code",
   "execution_count": null,
   "id": "ef9bb27b",
   "metadata": {},
   "outputs": [],
   "source": [
    "var =\"he said let's go\"\n",
    "var.split()"
   ]
  },
  {
   "cell_type": "raw",
   "id": "5a7b7133",
   "metadata": {},
   "source": []
  },
  {
   "cell_type": "code",
   "execution_count": null,
   "id": "23a1b14a",
   "metadata": {},
   "outputs": [],
   "source": [
    "\n",
    "print(r'19\\52ha018')"
   ]
  },
  {
   "cell_type": "code",
   "execution_count": null,
   "id": "2b0af9de",
   "metadata": {},
   "outputs": [],
   "source": [
    "var ='tokunbo'\n",
    "print(var[len(var)-1])"
   ]
  },
  {
   "cell_type": "code",
   "execution_count": null,
   "id": "7dbaf276",
   "metadata": {},
   "outputs": [],
   "source": [
    "dir(str)"
   ]
  },
  {
   "cell_type": "code",
   "execution_count": null,
   "id": "35113ad0",
   "metadata": {},
   "outputs": [],
   "source": [
    "help(str)"
   ]
  },
  {
   "cell_type": "code",
   "execution_count": null,
   "id": "a84bd6fd",
   "metadata": {},
   "outputs": [],
   "source": [
    "''.join(['2', 'g', 't'])"
   ]
  },
  {
   "cell_type": "code",
   "execution_count": null,
   "id": "79290eec",
   "metadata": {},
   "outputs": [],
   "source": [
    "'laraaaaaaaaa'.replace(old ='a',new = 'b', count =3)"
   ]
  },
  {
   "cell_type": "code",
   "execution_count": null,
   "id": "845163e4",
   "metadata": {},
   "outputs": [],
   "source": [
    "g = 'lara'.center(40, ' ')\n",
    "g"
   ]
  },
  {
   "cell_type": "code",
   "execution_count": null,
   "id": "4e1c6104",
   "metadata": {},
   "outputs": [],
   "source": [
    "g.strip()"
   ]
  },
  {
   "cell_type": "code",
   "execution_count": null,
   "id": "2741b260",
   "metadata": {},
   "outputs": [],
   "source": [
    "r ='bayoo'\n",
    "r.strip('o')"
   ]
  },
  {
   "cell_type": "code",
   "execution_count": null,
   "id": "a3b8a7da",
   "metadata": {},
   "outputs": [],
   "source": [
    "l= 'layoo'\n",
    "l.strip('l')"
   ]
  },
  {
   "cell_type": "code",
   "execution_count": null,
   "id": "72e86128",
   "metadata": {},
   "outputs": [],
   "source": [
    "# write a program that accepts input and check if it is a number, alphabet, alphanumeric. \n",
    "# if it is a number or alphanumeric, it would print out the number in the string\n"
   ]
  },
  {
   "cell_type": "code",
   "execution_count": null,
   "id": "0c1a65a2",
   "metadata": {},
   "outputs": [],
   "source": [
    "isalnum = ('2','3','4','a')\n",
    "print(isalnum)"
   ]
  },
  {
   "cell_type": "code",
   "execution_count": null,
   "id": "39ccde90",
   "metadata": {},
   "outputs": [],
   "source": [
    "input_str = input(\"enter a string: \")\n",
    "if input_str.isnumeric():\n",
    "    print(\"the string is numeric\")\n",
    "elif input_str.isalpha():\n",
    "    print(\"the alphabets only\")\n",
    "else:\n",
    "    print(\"the string has both alphabets and numbers.\")\n",
    "            "
   ]
  },
  {
   "cell_type": "code",
   "execution_count": null,
   "id": "5f414ee0",
   "metadata": {},
   "outputs": [],
   "source": [
    " input_str = input(\"enter a string: \")\n",
    "if input_str.isnumeric():\n",
    "     print(\"the numbers only.\")\n",
    "elif input_str.isalpha():\n",
    "     print(\"the alphabets only.\")\n",
    "else:\n",
    "     print(\"the numbers in string. \")"
   ]
  },
  {
   "cell_type": "code",
   "execution_count": null,
   "id": "b140fab2",
   "metadata": {},
   "outputs": [],
   "source": [
    "var = 56\n",
    "print(f'your age is {input_str}')"
   ]
  },
  {
   "cell_type": "code",
   "execution_count": 11,
   "id": "1d547e10",
   "metadata": {},
   "outputs": [
    {
     "name": "stdout",
     "output_type": "stream",
     "text": [
      "my name is awwal ,and i am 63\n"
     ]
    }
   ],
   "source": [
    "age = 63\n",
    "name = 'awwal'\n",
    "txt = f\"my name is {name} ,and i am {age}\"\n",
    "print(txt)"
   ]
  },
  {
   "cell_type": "code",
   "execution_count": null,
   "id": "dd24a41b",
   "metadata": {},
   "outputs": [],
   "source": [
    "my_var = 23\n",
    "print(f'your age {my_var}' )"
   ]
  },
  {
   "cell_type": "code",
   "execution_count": 12,
   "id": "f0e18fde",
   "metadata": {},
   "outputs": [
    {
     "name": "stdout",
     "output_type": "stream",
     "text": [
      "my name is lawal, I am 16 years old, I am in the computer science department\n"
     ]
    }
   ],
   "source": [
    "myname = 'lawal'\n",
    "age = 16\n",
    "dept = 'computer science'\n",
    "print(f'my name is {myname}, I am {age} years old, I am in the {dept} department')\n"
   ]
  },
  {
   "cell_type": "code",
   "execution_count": null,
   "id": "168d2323",
   "metadata": {},
   "outputs": [],
   "source": []
  },
  {
   "cell_type": "code",
   "execution_count": null,
   "id": "632deace",
   "metadata": {},
   "outputs": [],
   "source": []
  },
  {
   "cell_type": "code",
   "execution_count": null,
   "id": "56254dae",
   "metadata": {},
   "outputs": [],
   "source": [
    "g.rstrip()"
   ]
  },
  {
   "cell_type": "code",
   "execution_count": null,
   "id": "eb324e05",
   "metadata": {},
   "outputs": [],
   "source": [
    "'lara'.title()"
   ]
  },
  {
   "cell_type": "code",
   "execution_count": null,
   "id": "596e983f",
   "metadata": {},
   "outputs": [],
   "source": [
    "myname = 'lawal'\n",
    "age  = '18'\n",
    "dept = 'computer science'\n",
    "print(f'my name is {myname},i am {age}year old, i am in {dept}' )"
   ]
  },
  {
   "cell_type": "code",
   "execution_count": 13,
   "id": "944ee8df",
   "metadata": {},
   "outputs": [
    {
     "name": "stdout",
     "output_type": "stream",
     "text": [
      "('lawal', ' age', ' dept')\n"
     ]
    }
   ],
   "source": [
    "my_var = 'lawal',' age' ,' dept'\n",
    "print(f'{my_var}')"
   ]
  },
  {
   "cell_type": "code",
   "execution_count": null,
   "id": "1276710d",
   "metadata": {},
   "outputs": [],
   "source": [
    "name = 'lawal'\n",
    "discipline = 'computer science'\n",
    "favoritecourse = 'math'\n",
    "bestfood = 'rice'\n",
    "print(f'my name is {name},my discipline is {discipline},my favorite course is {favoritecourse},and my best food is {bestfood}.') "
   ]
  },
  {
   "cell_type": "code",
   "execution_count": null,
   "id": "c01c9663",
   "metadata": {},
   "outputs": [],
   "source": [
    "name = input('Enter your name: ')\n",
    "discipline = input('Enter your discipline: ')\n",
    "bestfood = input('Enter your bestfood: ')\n",
    "favoritecourse = input('Enter your favoritecourse: ')\n",
    "print(f'my name is {name},my discipline is {discipline},my best food is {bestfood}, my favorite course is {favoritecourse}.')"
   ]
  },
  {
   "cell_type": "code",
   "execution_count": 18,
   "id": "165070d6",
   "metadata": {},
   "outputs": [
    {
     "name": "stdout",
     "output_type": "stream",
     "text": [
      "the shape is circle\n"
     ]
    }
   ],
   "source": [
    "shape =\"circle\"\n",
    "if shape == \"circle\":\n",
    "    print(\"the shape is circle\")\n",
    "else:\n",
    "    print(\"the shape is not circle\")"
   ]
  },
  {
   "cell_type": "code",
   "execution_count": null,
   "id": "fe052b7d",
   "metadata": {},
   "outputs": [],
   "source": [
    "shape = 'oval'\n",
    "Age = 20\n",
    "if shape ==  'oval' and Age >=0:\n",
    "    print('yes')\n",
    "else:\n",
    "    print('no')"
   ]
  },
  {
   "cell_type": "code",
   "execution_count": null,
   "id": "342fea13",
   "metadata": {},
   "outputs": [],
   "source": [
    "shape ='rectangle'\n",
    "if shape !='circle':\n",
    "    print('shape is not equal to cicle')\n",
    "else:\n",
    "    print('shape is equal to rectangle')"
   ]
  },
  {
   "cell_type": "code",
   "execution_count": null,
   "id": "e146190a",
   "metadata": {},
   "outputs": [],
   "source": [
    "name ='maryam'\n",
    "age = 12\n",
    "if name == 'maryam' or age ==10:\n",
    "    print('yes')\n",
    "else:\n",
    "    print('no')"
   ]
  },
  {
   "cell_type": "code",
   "execution_count": null,
   "id": "e89ea050",
   "metadata": {},
   "outputs": [],
   "source": [
    "a= 30\n",
    "b= 10\n",
    "if b>a:\n",
    "    print('b is greater than a')\n",
    "else:\n",
    "    print('a is greater than b')"
   ]
  },
  {
   "cell_type": "code",
   "execution_count": null,
   "id": "2f907405",
   "metadata": {},
   "outputs": [],
   "source": [
    "bool('abc')\n",
    "bool('123')\n",
    "bool(['apple', 'cherry','banana'])"
   ]
  },
  {
   "cell_type": "code",
   "execution_count": null,
   "id": "95fbd631",
   "metadata": {},
   "outputs": [],
   "source": [
    "x = 'hello'\n",
    "y = 15\n",
    "bool(type(x))\n",
    "bool(type(y))"
   ]
  },
  {
   "cell_type": "code",
   "execution_count": null,
   "id": "41bbd322",
   "metadata": {},
   "outputs": [],
   "source": [
    "thislist =[ 'mango', 'pawpaw','orange']\n",
    "print(thislist)"
   ]
  },
  {
   "cell_type": "code",
   "execution_count": null,
   "id": "f888e3bc",
   "metadata": {},
   "outputs": [],
   "source": [
    "def myfunction()  :\n",
    "    return True\n",
    "if myfunction():\n",
    "    \n",
    "    \n",
    "    print('yes')\n",
    "else:\n",
    "    print('no')"
   ]
  },
  {
   "cell_type": "code",
   "execution_count": null,
   "id": "ca9471ef",
   "metadata": {},
   "outputs": [],
   "source": [
    "fruits = ['mango','orange','pawpaw']\n",
    "input()\n",
    "    "
   ]
  },
  {
   "cell_type": "code",
   "execution_count": null,
   "id": "dce1ae29",
   "metadata": {},
   "outputs": [],
   "source": [
    "n = int(input(\"enter the number of elements;\"))\n",
    "my_list = []\n",
    "for i in range(n):\n",
    "    element = input(\"enter element{}:\".fprmat(i+1))\n",
    "my_list.append(element)\n",
    "#     printing the list.\n",
    "print(\"list:\",my_list)\n"
   ]
  },
  {
   "cell_type": "code",
   "execution_count": null,
   "id": "aa3722ee",
   "metadata": {},
   "outputs": [],
   "source": [
    "shopping_list = []\n",
    "listlength = 3\n",
    "for  in range (listlength):\n",
    "    item = input('enter the item to buy:' )\n",
    "    shopping_list.append(item)\n",
    "     print(shopping_list)"
   ]
  },
  {
   "cell_type": "code",
   "execution_count": null,
   "id": "1ae2c6d0",
   "metadata": {},
   "outputs": [],
   "source": [
    "mylist =[]\n",
    "n =int(input(\"how many element in a list:- \"))\n",
    "for i in range(n) :\n",
    "    storeElement = int(input(\"enter integer sum:- \"))\n",
    "    mylist.append(store element)\n",
    "    print(\"input list elements are: \")\n",
    "for i in range(n) :\n",
    "    print(mylist[i])"
   ]
  },
  {
   "cell_type": "code",
   "execution_count": null,
   "id": "a6d64d2c",
   "metadata": {},
   "outputs": [],
   "source": [
    "list = [\"apple\", \"banana\", \"orange\"]\n",
    "print(list)\n",
    "print(list[1])\n",
    "print(list[-1])"
   ]
  },
  {
   "cell_type": "code",
   "execution_count": null,
   "id": "525c7c29",
   "metadata": {},
   "outputs": [],
   "source": [
    "a = \"hello,guys\"\n",
    "print(a[2:5])"
   ]
  },
  {
   "cell_type": "code",
   "execution_count": null,
   "id": "b1f54df2",
   "metadata": {},
   "outputs": [],
   "source": [
    "while True:\n",
    "    n = input('A')\n",
    "if n >= 100:\n",
    "    print(70)\n",
    "    break\n",
    "    n = input('B')\n",
    "if n >= 69:\n",
    "    print(60)\n",
    "    break\n",
    "    n = input('C')\n",
    "if n >= 59:\n",
    "    print(50)\n",
    "    break\n",
    "    n = input('D')\n",
    "if n >= 49:\n",
    "    print(40)\n",
    "    break\n",
    "    n = input('F')\n",
    "if n >= 39:\n",
    "    print(0)\n",
    "    break"
   ]
  },
  {
   "cell_type": "code",
   "execution_count": 20,
   "id": "c9e82cf5",
   "metadata": {},
   "outputs": [
    {
     "ename": "SyntaxError",
     "evalue": "invalid syntax (3219059129.py, line 3)",
     "output_type": "error",
     "traceback": [
      "\u001b[1;36m  File \u001b[1;32m\"C:\\Users\\User\\AppData\\Local\\Temp\\ipykernel_10952\\3219059129.py\"\u001b[1;36m, line \u001b[1;32m3\u001b[0m\n\u001b[1;33m    for i in range (0, len(Names))\u001b[0m\n\u001b[1;37m                                  ^\u001b[0m\n\u001b[1;31mSyntaxError\u001b[0m\u001b[1;31m:\u001b[0m invalid syntax\n"
     ]
    }
   ],
   "source": [
    "Grades = [40, 50, 60, ]\n",
    "Names =  [\"kemi\", \"yemi\", \"maryam\",]\n",
    "for i in range (0, len(Names))\n",
    "    if grade[i] >= 80:\n",
    "        print(Names[i] + \"A\")\n",
    "    elif grade[i] >= 70:\n",
    "        print(Names[i] + \"B\")\n",
    "    elif grade[i] >= 60:\n",
    "        print(Names[i] + \"C\")\n",
    "    elif grade[i] >= 50:\n",
    "        print(Names[i] + \"D\")\n",
    "    else:\n",
    "        print(Names[i] + \"F\")"
   ]
  },
  {
   "cell_type": "code",
   "execution_count": 21,
   "id": "191c9050",
   "metadata": {
    "scrolled": true
   },
   "outputs": [
    {
     "ename": "KeyboardInterrupt",
     "evalue": "Interrupted by user",
     "output_type": "error",
     "traceback": [
      "\u001b[1;31m---------------------------------------------------------------------------\u001b[0m",
      "\u001b[1;31mKeyboardInterrupt\u001b[0m                         Traceback (most recent call last)",
      "\u001b[1;32m~\\AppData\\Local\\Temp\\ipykernel_10952\\3919726049.py\u001b[0m in \u001b[0;36m<module>\u001b[1;34m\u001b[0m\n\u001b[0;32m      1\u001b[0m \u001b[1;32mfor\u001b[0m \u001b[0mi\u001b[0m \u001b[1;32min\u001b[0m \u001b[0mrange\u001b[0m\u001b[1;33m(\u001b[0m\u001b[1;36m8\u001b[0m\u001b[1;33m)\u001b[0m\u001b[1;33m:\u001b[0m\u001b[1;33m\u001b[0m\u001b[1;33m\u001b[0m\u001b[0m\n\u001b[1;32m----> 2\u001b[1;33m     \u001b[0mgrade\u001b[0m \u001b[1;33m=\u001b[0m \u001b[0mint\u001b[0m\u001b[1;33m(\u001b[0m\u001b[0minput\u001b[0m\u001b[1;33m(\u001b[0m\u001b[1;34m\" score\"\u001b[0m\u001b[1;33m)\u001b[0m\u001b[1;33m)\u001b[0m\u001b[1;33m\u001b[0m\u001b[1;33m\u001b[0m\u001b[0m\n\u001b[0m\u001b[0;32m      3\u001b[0m     \u001b[1;32mif\u001b[0m \u001b[0mgrade\u001b[0m \u001b[1;33m<\u001b[0m \u001b[1;36m0\u001b[0m\u001b[1;33m:\u001b[0m\u001b[1;33m\u001b[0m\u001b[1;33m\u001b[0m\u001b[0m\n\u001b[0;32m      4\u001b[0m         \u001b[0mprint\u001b[0m\u001b[1;33m(\u001b[0m\u001b[1;34m'input correct grade between 0 to 100'\u001b[0m\u001b[1;33m)\u001b[0m\u001b[1;33m\u001b[0m\u001b[1;33m\u001b[0m\u001b[0m\n\u001b[0;32m      5\u001b[0m     \u001b[1;32melif\u001b[0m \u001b[0mgrade\u001b[0m \u001b[1;33m<\u001b[0m \u001b[1;36m40\u001b[0m\u001b[1;33m:\u001b[0m\u001b[1;33m\u001b[0m\u001b[1;33m\u001b[0m\u001b[0m\n",
      "\u001b[1;32m~\\anaconda3\\lib\\site-packages\\ipykernel\\kernelbase.py\u001b[0m in \u001b[0;36mraw_input\u001b[1;34m(self, prompt)\u001b[0m\n\u001b[0;32m   1175\u001b[0m                 \u001b[1;34m\"raw_input was called, but this frontend does not support input requests.\"\u001b[0m\u001b[1;33m\u001b[0m\u001b[1;33m\u001b[0m\u001b[0m\n\u001b[0;32m   1176\u001b[0m             )\n\u001b[1;32m-> 1177\u001b[1;33m         return self._input_request(\n\u001b[0m\u001b[0;32m   1178\u001b[0m             \u001b[0mstr\u001b[0m\u001b[1;33m(\u001b[0m\u001b[0mprompt\u001b[0m\u001b[1;33m)\u001b[0m\u001b[1;33m,\u001b[0m\u001b[1;33m\u001b[0m\u001b[1;33m\u001b[0m\u001b[0m\n\u001b[0;32m   1179\u001b[0m             \u001b[0mself\u001b[0m\u001b[1;33m.\u001b[0m\u001b[0m_parent_ident\u001b[0m\u001b[1;33m[\u001b[0m\u001b[1;34m\"shell\"\u001b[0m\u001b[1;33m]\u001b[0m\u001b[1;33m,\u001b[0m\u001b[1;33m\u001b[0m\u001b[1;33m\u001b[0m\u001b[0m\n",
      "\u001b[1;32m~\\anaconda3\\lib\\site-packages\\ipykernel\\kernelbase.py\u001b[0m in \u001b[0;36m_input_request\u001b[1;34m(self, prompt, ident, parent, password)\u001b[0m\n\u001b[0;32m   1217\u001b[0m             \u001b[1;32mexcept\u001b[0m \u001b[0mKeyboardInterrupt\u001b[0m\u001b[1;33m:\u001b[0m\u001b[1;33m\u001b[0m\u001b[1;33m\u001b[0m\u001b[0m\n\u001b[0;32m   1218\u001b[0m                 \u001b[1;31m# re-raise KeyboardInterrupt, to truncate traceback\u001b[0m\u001b[1;33m\u001b[0m\u001b[1;33m\u001b[0m\u001b[0m\n\u001b[1;32m-> 1219\u001b[1;33m                 \u001b[1;32mraise\u001b[0m \u001b[0mKeyboardInterrupt\u001b[0m\u001b[1;33m(\u001b[0m\u001b[1;34m\"Interrupted by user\"\u001b[0m\u001b[1;33m)\u001b[0m \u001b[1;32mfrom\u001b[0m \u001b[1;32mNone\u001b[0m\u001b[1;33m\u001b[0m\u001b[1;33m\u001b[0m\u001b[0m\n\u001b[0m\u001b[0;32m   1220\u001b[0m             \u001b[1;32mexcept\u001b[0m \u001b[0mException\u001b[0m\u001b[1;33m:\u001b[0m\u001b[1;33m\u001b[0m\u001b[1;33m\u001b[0m\u001b[0m\n\u001b[0;32m   1221\u001b[0m                 \u001b[0mself\u001b[0m\u001b[1;33m.\u001b[0m\u001b[0mlog\u001b[0m\u001b[1;33m.\u001b[0m\u001b[0mwarning\u001b[0m\u001b[1;33m(\u001b[0m\u001b[1;34m\"Invalid Message:\"\u001b[0m\u001b[1;33m,\u001b[0m \u001b[0mexc_info\u001b[0m\u001b[1;33m=\u001b[0m\u001b[1;32mTrue\u001b[0m\u001b[1;33m)\u001b[0m\u001b[1;33m\u001b[0m\u001b[1;33m\u001b[0m\u001b[0m\n",
      "\u001b[1;31mKeyboardInterrupt\u001b[0m: Interrupted by user"
     ]
    }
   ],
   "source": [
    "for i in range(8):  \n",
    "    grade = int(input(\" score\"))\n",
    "    if grade < 0:\n",
    "        print('input correct grade between 0 to 100')\n",
    "    elif grade < 40:\n",
    "        print(\"F\")\n",
    "    elif grade < 45:\n",
    "        print(\"E\")\n",
    "    elif grade <= 50:\n",
    "        print(\"D\")\n",
    "    elif grade <= 60:\n",
    "        print(\"C\")\n",
    "    elif grade <= 70:\n",
    "        print(\"B\")\n",
    "    elif grade <= 100:\n",
    "        print(\"A\")\n",
    "    else:\n",
    "        print('input correct grade between 0 to 100')"
   ]
  },
  {
   "cell_type": "markdown",
   "id": "34fa6f23",
   "metadata": {},
   "source": [
    "#### "
   ]
  },
  {
   "cell_type": "code",
   "execution_count": null,
   "id": "29578184",
   "metadata": {},
   "outputs": [],
   "source": [
    "i = 1\n",
    "while i<=7:\n",
    "    print(i)\n",
    "    i = i +1"
   ]
  },
  {
   "cell_type": "code",
   "execution_count": null,
   "id": "fc131b16",
   "metadata": {},
   "outputs": [],
   "source": [
    "Names = [\"jon\", \"kemi\",\"layo\",\"bimbo\"]\n",
    "Names[0] = \"maryam\""
   ]
  },
  {
   "cell_type": "code",
   "execution_count": null,
   "id": "5e0b3d20",
   "metadata": {},
   "outputs": [],
   "source": []
  },
  {
   "cell_type": "code",
   "execution_count": null,
   "id": "5a666bd6",
   "metadata": {},
   "outputs": [],
   "source": []
  },
  {
   "cell_type": "code",
   "execution_count": null,
   "id": "cec57dbb",
   "metadata": {},
   "outputs": [],
   "source": []
  },
  {
   "cell_type": "code",
   "execution_count": null,
   "id": "0e14d0ed",
   "metadata": {},
   "outputs": [],
   "source": []
  },
  {
   "cell_type": "code",
   "execution_count": null,
   "id": "c6295a59",
   "metadata": {},
   "outputs": [],
   "source": []
  },
  {
   "cell_type": "code",
   "execution_count": null,
   "id": "ec1a4309",
   "metadata": {},
   "outputs": [],
   "source": []
  },
  {
   "cell_type": "code",
   "execution_count": null,
   "id": "0fb07153",
   "metadata": {},
   "outputs": [],
   "source": []
  },
  {
   "cell_type": "code",
   "execution_count": null,
   "id": "39fc9a09",
   "metadata": {},
   "outputs": [],
   "source": []
  },
  {
   "cell_type": "code",
   "execution_count": 22,
   "id": "cf4e7e02",
   "metadata": {},
   "outputs": [
    {
     "ename": "KeyboardInterrupt",
     "evalue": "Interrupted by user",
     "output_type": "error",
     "traceback": [
      "\u001b[1;31m---------------------------------------------------------------------------\u001b[0m",
      "\u001b[1;31mKeyboardInterrupt\u001b[0m                         Traceback (most recent call last)",
      "\u001b[1;32m~\\AppData\\Local\\Temp\\ipykernel_10952\\1516260658.py\u001b[0m in \u001b[0;36m<module>\u001b[1;34m\u001b[0m\n\u001b[1;32m----> 1\u001b[1;33m \u001b[0minput_str\u001b[0m \u001b[1;33m=\u001b[0m \u001b[0minput\u001b[0m\u001b[1;33m(\u001b[0m\u001b[1;34m'enter a string: '\u001b[0m\u001b[1;33m)\u001b[0m\u001b[1;33m\u001b[0m\u001b[1;33m\u001b[0m\u001b[0m\n\u001b[0m\u001b[0;32m      2\u001b[0m \u001b[1;32mif\u001b[0m \u001b[0minput_str\u001b[0m\u001b[1;33m.\u001b[0m\u001b[0misnumeric\u001b[0m\u001b[1;33m(\u001b[0m\u001b[1;33m)\u001b[0m\u001b[1;33m:\u001b[0m\u001b[1;33m\u001b[0m\u001b[1;33m\u001b[0m\u001b[0m\n\u001b[0;32m      3\u001b[0m         \u001b[0mprint\u001b[0m\u001b[1;33m(\u001b[0m\u001b[1;34m\"it's a number\"\u001b[0m\u001b[1;33m)\u001b[0m\u001b[1;33m\u001b[0m\u001b[1;33m\u001b[0m\u001b[0m\n\u001b[0;32m      4\u001b[0m \u001b[1;32melif\u001b[0m \u001b[0minput_str\u001b[0m\u001b[1;33m.\u001b[0m\u001b[0misalpha\u001b[0m\u001b[1;33m(\u001b[0m\u001b[1;33m)\u001b[0m\u001b[1;33m:\u001b[0m\u001b[1;33m\u001b[0m\u001b[1;33m\u001b[0m\u001b[0m\n\u001b[0;32m      5\u001b[0m         \u001b[0mprint\u001b[0m\u001b[1;33m(\u001b[0m\u001b[1;34m\"it's alphabet\"\u001b[0m\u001b[1;33m)\u001b[0m\u001b[1;33m\u001b[0m\u001b[1;33m\u001b[0m\u001b[0m\n",
      "\u001b[1;32m~\\anaconda3\\lib\\site-packages\\ipykernel\\kernelbase.py\u001b[0m in \u001b[0;36mraw_input\u001b[1;34m(self, prompt)\u001b[0m\n\u001b[0;32m   1175\u001b[0m                 \u001b[1;34m\"raw_input was called, but this frontend does not support input requests.\"\u001b[0m\u001b[1;33m\u001b[0m\u001b[1;33m\u001b[0m\u001b[0m\n\u001b[0;32m   1176\u001b[0m             )\n\u001b[1;32m-> 1177\u001b[1;33m         return self._input_request(\n\u001b[0m\u001b[0;32m   1178\u001b[0m             \u001b[0mstr\u001b[0m\u001b[1;33m(\u001b[0m\u001b[0mprompt\u001b[0m\u001b[1;33m)\u001b[0m\u001b[1;33m,\u001b[0m\u001b[1;33m\u001b[0m\u001b[1;33m\u001b[0m\u001b[0m\n\u001b[0;32m   1179\u001b[0m             \u001b[0mself\u001b[0m\u001b[1;33m.\u001b[0m\u001b[0m_parent_ident\u001b[0m\u001b[1;33m[\u001b[0m\u001b[1;34m\"shell\"\u001b[0m\u001b[1;33m]\u001b[0m\u001b[1;33m,\u001b[0m\u001b[1;33m\u001b[0m\u001b[1;33m\u001b[0m\u001b[0m\n",
      "\u001b[1;32m~\\anaconda3\\lib\\site-packages\\ipykernel\\kernelbase.py\u001b[0m in \u001b[0;36m_input_request\u001b[1;34m(self, prompt, ident, parent, password)\u001b[0m\n\u001b[0;32m   1217\u001b[0m             \u001b[1;32mexcept\u001b[0m \u001b[0mKeyboardInterrupt\u001b[0m\u001b[1;33m:\u001b[0m\u001b[1;33m\u001b[0m\u001b[1;33m\u001b[0m\u001b[0m\n\u001b[0;32m   1218\u001b[0m                 \u001b[1;31m# re-raise KeyboardInterrupt, to truncate traceback\u001b[0m\u001b[1;33m\u001b[0m\u001b[1;33m\u001b[0m\u001b[0m\n\u001b[1;32m-> 1219\u001b[1;33m                 \u001b[1;32mraise\u001b[0m \u001b[0mKeyboardInterrupt\u001b[0m\u001b[1;33m(\u001b[0m\u001b[1;34m\"Interrupted by user\"\u001b[0m\u001b[1;33m)\u001b[0m \u001b[1;32mfrom\u001b[0m \u001b[1;32mNone\u001b[0m\u001b[1;33m\u001b[0m\u001b[1;33m\u001b[0m\u001b[0m\n\u001b[0m\u001b[0;32m   1220\u001b[0m             \u001b[1;32mexcept\u001b[0m \u001b[0mException\u001b[0m\u001b[1;33m:\u001b[0m\u001b[1;33m\u001b[0m\u001b[1;33m\u001b[0m\u001b[0m\n\u001b[0;32m   1221\u001b[0m                 \u001b[0mself\u001b[0m\u001b[1;33m.\u001b[0m\u001b[0mlog\u001b[0m\u001b[1;33m.\u001b[0m\u001b[0mwarning\u001b[0m\u001b[1;33m(\u001b[0m\u001b[1;34m\"Invalid Message:\"\u001b[0m\u001b[1;33m,\u001b[0m \u001b[0mexc_info\u001b[0m\u001b[1;33m=\u001b[0m\u001b[1;32mTrue\u001b[0m\u001b[1;33m)\u001b[0m\u001b[1;33m\u001b[0m\u001b[1;33m\u001b[0m\u001b[0m\n",
      "\u001b[1;31mKeyboardInterrupt\u001b[0m: Interrupted by user"
     ]
    }
   ],
   "source": [
    "input_str = input('enter a string: ')\n",
    "if input_str.isnumeric():\n",
    "        print(\"it's a number\")\n",
    "elif input_str.isalpha():\n",
    "        print(\"it's alphabet\")\n",
    "else:\n",
    "        print(\"it's both alpabet and numeric.\")"
   ]
  },
  {
   "cell_type": "code",
   "execution_count": null,
   "id": "af6120ca",
   "metadata": {},
   "outputs": [],
   "source": []
  },
  {
   "cell_type": "code",
   "execution_count": null,
   "id": "01747a69",
   "metadata": {},
   "outputs": [],
   "source": []
  },
  {
   "cell_type": "code",
   "execution_count": null,
   "id": "30a15047",
   "metadata": {},
   "outputs": [],
   "source": []
  },
  {
   "cell_type": "code",
   "execution_count": null,
   "id": "bb36f407",
   "metadata": {},
   "outputs": [],
   "source": []
  },
  {
   "cell_type": "code",
   "execution_count": null,
   "id": "caddc503",
   "metadata": {},
   "outputs": [],
   "source": []
  },
  {
   "cell_type": "code",
   "execution_count": null,
   "id": "b744ac53",
   "metadata": {},
   "outputs": [],
   "source": []
  },
  {
   "cell_type": "code",
   "execution_count": null,
   "id": "834edd13",
   "metadata": {},
   "outputs": [],
   "source": []
  },
  {
   "cell_type": "code",
   "execution_count": null,
   "id": "5f509e95",
   "metadata": {},
   "outputs": [],
   "source": []
  },
  {
   "cell_type": "code",
   "execution_count": null,
   "id": "e54f7815",
   "metadata": {},
   "outputs": [],
   "source": []
  },
  {
   "cell_type": "code",
   "execution_count": null,
   "id": "e1934baa",
   "metadata": {},
   "outputs": [],
   "source": []
  },
  {
   "cell_type": "code",
   "execution_count": null,
   "id": "15fc9063",
   "metadata": {},
   "outputs": [],
   "source": []
  },
  {
   "cell_type": "code",
   "execution_count": null,
   "id": "a1c63625",
   "metadata": {},
   "outputs": [],
   "source": []
  },
  {
   "cell_type": "code",
   "execution_count": null,
   "id": "61d7a768",
   "metadata": {},
   "outputs": [],
   "source": []
  },
  {
   "cell_type": "code",
   "execution_count": null,
   "id": "82cc89e9",
   "metadata": {},
   "outputs": [],
   "source": []
  }
 ],
 "metadata": {
  "kernelspec": {
   "display_name": "Python 3 (ipykernel)",
   "language": "python",
   "name": "python3"
  },
  "language_info": {
   "codemirror_mode": {
    "name": "ipython",
    "version": 3
   },
   "file_extension": ".py",
   "mimetype": "text/x-python",
   "name": "python",
   "nbconvert_exporter": "python",
   "pygments_lexer": "ipython3",
   "version": "3.9.13"
  }
 },
 "nbformat": 4,
 "nbformat_minor": 5
}
