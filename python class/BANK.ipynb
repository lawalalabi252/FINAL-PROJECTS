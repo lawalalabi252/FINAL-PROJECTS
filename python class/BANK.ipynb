{
 "cells": [
  {
   "cell_type": "markdown",
   "id": "6c9d3ff3",
   "metadata": {},
   "source": [
    "# create a bank app , that allows you to deposit ,withdraw , check balance and you should be able to create account , view information and generate account number \n"
   ]
  },
  {
   "cell_type": "code",
   "execution_count": 1,
   "id": "a6872504",
   "metadata": {},
   "outputs": [],
   "source": [
    "import random"
   ]
  },
  {
   "cell_type": "code",
   "execution_count": 2,
   "id": "62f1c809",
   "metadata": {},
   "outputs": [
    {
     "name": "stdout",
     "output_type": "stream",
     "text": [
      "Account created successfully. Your account number is:8859080857\n",
      "Account not found\n",
      "Account not found.\n"
     ]
    }
   ],
   "source": [
    "class Bank:\n",
    "    def __init__(self):\n",
    "        self.accounts = {}\n",
    "        \n",
    "    def create_account(self , name , initial_balance):\n",
    "        account_number= self.generate_account_number()\n",
    "        self.accounts[account_number] = {'name': name , 'balance': initial_balance}\n",
    "        print(f'Account created successfully. Your account number is:{account_number}')\n",
    "        \n",
    "    def generate_account_number(self):\n",
    "        return random.randint(1000000000 , 9999999999)\n",
    "    \n",
    "    def view_infomation(self , account_number):\n",
    "        if account_number in self.accounts:\n",
    "            account_info = self.accounts[account_number]\n",
    "            print(f'Account infomation :/n Account Number :{account_number}/nName:{account_info[\"name\"]}/nBalance:{account_info[\"balance\"]}')\n",
    "        else:\n",
    "            print('Account not found')\n",
    "    def deposit(self , account_number, amount):\n",
    "        if account_number in self.accounts:\n",
    "            self.accounts[account_number]['balance']  += amount\n",
    "            print(f'deposit succesful. new_balance:{self.accounts[account_number][\"balance\"]}')\n",
    "        else:\n",
    "            print('Account not found')\n",
    "            \n",
    "    def withdraw(self , account_number , amount):\n",
    "        if account_number in self.accounts:\n",
    "            if self.accounts[account_number]['balance'] >= amount:\n",
    "                self.accounts[account_number]['balance'] -=amount\n",
    "                print(f'withrawal successful. New_balance:{self.accounts[account_number][\"balance\"]}')\n",
    "            else:\n",
    "                print('insufficient funds')\n",
    "        else:\n",
    "            print('Account not found.')\n",
    "    \n",
    "    def check_balance(self , account_number):\n",
    "        if account_number in self.accounts:\n",
    "            print(f' Current_balance: {self.accounts[account_number][\"balance\"]}')\n",
    "        else:\n",
    "            print('Account not found')\n",
    "            \n",
    "            \n",
    "bank = Bank()\n",
    "bank.create_account('lawal', 2000)\n",
    "bank.generate_account_number() \n",
    "bank.deposit( 7081369096, 30000)\n",
    "bank.withdraw(7081369096 , 3000)"
   ]
  },
  {
   "cell_type": "code",
   "execution_count": null,
   "id": "ea726109",
   "metadata": {},
   "outputs": [
    {
     "name": "stdout",
     "output_type": "stream",
     "text": [
      "\n",
      " BANK APPLICATION MENU: \n",
      "1. Create Account\n",
      "2. View_infomation\n",
      "3. Deposit\n",
      "4. Withdraw\n",
      "5. check balance \n",
      "6. Exit\n"
     ]
    }
   ],
   "source": [
    "while True:\n",
    "    print('\\n BANK APPLICATION MENU: ')\n",
    "    print('1. Create Account')\n",
    "    print('2. View_infomation')\n",
    "    print('3. Deposit')\n",
    "    print('4. Withdraw')\n",
    "    print('5. check balance ')\n",
    "    print('6. Exit')\n",
    "    \n",
    "    choice = input('Enter Your choice(1 - 6): ')\n",
    "    \n",
    "    if choice == '1':\n",
    "        name = input('Enter your name: ')\n",
    "        initial_balance = float(input('enter initial balance: '))\n",
    "        bank.create_account(name , initial_balance)\n",
    "        continue\n",
    "    elif choice == '2':\n",
    "        account_number = int(input(\"Enter your account: \"))\n",
    "        bank.view_information(account_number)\n",
    "        continue\n",
    "    elif choice == '3':\n",
    "        account_number = int(input(\"Enter your account number: \"))\n",
    "        amount = float(input(\"Enter deposit amount: \"))\n",
    "        bank.deposit(account_number, amount)\n",
    "        continue\n",
    "    elif choice == '4':\n",
    "        account_number = int(input(\"Enter your account number: \"))\n",
    "        amount = float(input(\"Enter withdrawal amount: \"))\n",
    "        continue\n",
    "    elif choice == '5':\n",
    "        account_number = int(input(\"Enter your account number: \"))\n",
    "        bank.check_balance(account_number)\n",
    "        continue\n",
    "    elif choice == '6':\n",
    "        print(\"Exit the bank application. THANK YOU!\")\n",
    "        break\n",
    "    else:\n",
    "        print(\"Invalid choice. Please enter a number between 1 and 6.\")    "
   ]
  },
  {
   "cell_type": "code",
   "execution_count": null,
   "id": "f0c92d9f",
   "metadata": {},
   "outputs": [],
   "source": []
  },
  {
   "cell_type": "code",
   "execution_count": null,
   "id": "8434b336",
   "metadata": {},
   "outputs": [],
   "source": []
  },
  {
   "cell_type": "code",
   "execution_count": null,
   "id": "8383d572",
   "metadata": {},
   "outputs": [],
   "source": []
  },
  {
   "cell_type": "code",
   "execution_count": null,
   "id": "27b04797",
   "metadata": {},
   "outputs": [],
   "source": []
  }
 ],
 "metadata": {
  "kernelspec": {
   "display_name": "Python 3 (ipykernel)",
   "language": "python",
   "name": "python3"
  },
  "language_info": {
   "codemirror_mode": {
    "name": "ipython",
    "version": 3
   },
   "file_extension": ".py",
   "mimetype": "text/x-python",
   "name": "python",
   "nbconvert_exporter": "python",
   "pygments_lexer": "ipython3",
   "version": "3.9.13"
  }
 },
 "nbformat": 4,
 "nbformat_minor": 5
}
