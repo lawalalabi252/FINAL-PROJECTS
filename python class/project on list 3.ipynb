{
 "cells": [
  {
   "cell_type": "code",
   "execution_count": 1,
   "id": "d6f94920",
   "metadata": {},
   "outputs": [
    {
     "name": "stdout",
     "output_type": "stream",
     "text": [
      "[True, False, True, False]\n"
     ]
    }
   ],
   "source": [
    "def  boolean_list(number):  \n",
    "    boolean_list = []\n",
    "    for digit in number:\n",
    "        if digit == 1:\n",
    "            boolean_list.append(True) \n",
    "        elif digit == 0:\n",
    "            boolean_list.append(False)\n",
    "        else:\n",
    "            return  \"it should contain only 0s and 1s\"\n",
    "    return boolean_list           \n",
    "number = [1,0,1,0]\n",
    "result = boolean_list(number)\n",
    "print(result)"
   ]
  },
  {
   "cell_type": "code",
   "execution_count": 2,
   "id": "ac293b85",
   "metadata": {},
   "outputs": [],
   "source": [
    "# create a function which return a list of booleans from a given number\n",
    "# iterating through the number one digit at a time append true if it is 1 \n",
    "# false if it's 0"
   ]
  },
  {
   "cell_type": "raw",
   "id": "1fae5e29",
   "metadata": {},
   "source": []
  },
  {
   "cell_type": "code",
   "execution_count": 3,
   "id": "a84f56d3",
   "metadata": {},
   "outputs": [],
   "source": [
    "# Given a list of numbers write a python function that returns a list that a has a\n",
    "# duplicate element removed\n",
    "# and it's sorted"
   ]
  },
  {
   "cell_type": "code",
   "execution_count": 4,
   "id": "f02e89ac",
   "metadata": {},
   "outputs": [
    {
     "name": "stdout",
     "output_type": "stream",
     "text": [
      "[1, 2, 3, 4, 5, 6, 7]\n"
     ]
    }
   ],
   "source": [
    "def remove_duplicates(input_list):\n",
    "    result = []\n",
    "    for item in input_list:\n",
    "        if item not in result:\n",
    "            result.append(item)\n",
    "        else:\n",
    "            result.sort()\n",
    "    return result\n",
    "my_list = [ 7,6,4,3,2,1,2,5,6]\n",
    "new_list = remove_duplicates(my_list)\n",
    "print(new_list)\n",
    "\n"
   ]
  },
  {
   "cell_type": "markdown",
   "id": "5d40b13a",
   "metadata": {},
   "source": [
    "# create a function "
   ]
  },
  {
   "cell_type": "code",
   "execution_count": null,
   "id": "a1d47c28",
   "metadata": {},
   "outputs": [],
   "source": [
    "# create a function that takes in a sentence and character to find. return a dictionary of each word in the sentence with the number\n",
    "#  of the specified character as the  value"
   ]
  },
  {
   "cell_type": "code",
   "execution_count": 7,
   "id": "d305bb1a",
   "metadata": {},
   "outputs": [],
   "source": [
    "def char_mapping(sentence, char_to_find):\n",
    "    word_dict ={}\n",
    "    words = sentence.split()\n",
    "    for word in words:\n",
    "        word_dict[word] = char_to_find\n",
    "    return word_dict\n"
   ]
  },
  {
   "cell_type": "code",
   "execution_count": 12,
   "id": "f9c600b5",
   "metadata": {},
   "outputs": [
    {
     "name": "stdout",
     "output_type": "stream",
     "text": [
      "{'this': '1', 'is': '1', 'a': '1', 'boy': '1'}\n"
     ]
    }
   ],
   "source": [
    "char_to_find = '1'\n",
    "sentence = 'this is a boy' \n",
    "result_dict = char_mapping(sentence, char_to_find)\n",
    "print(result_dict)"
   ]
  },
  {
   "cell_type": "code",
   "execution_count": null,
   "id": "65c655e7",
   "metadata": {},
   "outputs": [],
   "source": []
  }
 ],
 "metadata": {
  "kernelspec": {
   "display_name": "Python 3 (ipykernel)",
   "language": "python",
   "name": "python3"
  },
  "language_info": {
   "codemirror_mode": {
    "name": "ipython",
    "version": 3
   },
   "file_extension": ".py",
   "mimetype": "text/x-python",
   "name": "python",
   "nbconvert_exporter": "python",
   "pygments_lexer": "ipython3",
   "version": "3.9.13"
  }
 },
 "nbformat": 4,
 "nbformat_minor": 5
}
