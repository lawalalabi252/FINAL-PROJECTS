{
 "cells": [
  {
   "cell_type": "markdown",
   "id": "a87ddabb",
   "metadata": {},
   "source": [
    "# create a bank app , that allows you to deposit ,withdraw , check balance and you should be able to create account , view information and generate account number "
   ]
  },
  {
   "cell_type": "code",
   "execution_count": 7,
   "id": "392a9019",
   "metadata": {},
   "outputs": [
    {
     "ename": "IndentationError",
     "evalue": "unindent does not match any outer indentation level (<tokenize>, line 20)",
     "output_type": "error",
     "traceback": [
      "\u001b[1;36m  File \u001b[1;32m\"<tokenize>\"\u001b[1;36m, line \u001b[1;32m20\u001b[0m\n\u001b[1;33m    print(f' withdrew £{amount}.New_balance:£{amount}')\u001b[0m\n\u001b[1;37m    ^\u001b[0m\n\u001b[1;31mIndentationError\u001b[0m\u001b[1;31m:\u001b[0m unindent does not match any outer indentation level\n"
     ]
    }
   ],
   "source": [
    "class BankAccount:\n",
    "    def __init__(self , account_holder , initial_balance= 0):\n",
    "        self.account_holder = account_holder\n",
    "        self.balance = initial_balance\n",
    "        self.account_number = self.generate_account_number()\n",
    "        \n",
    "    def generate_account_number(self):\n",
    "        return random.randint(1000000 , 9999999)\n",
    "    \n",
    "    def deposit(self , amount):\n",
    "        if amount > 0:\n",
    "            self.balance += amount\n",
    "            print(f' deposit £{amount}. New_balance:£{amount}')\n",
    "        else:\n",
    "            print('refund your account')\n",
    "            \n",
    "    def withdraw(self, amount):\n",
    "            if amount > 0 and amount <= self.balance:\n",
    "                                                                                                                                                                         s     print(f' account balance for {self.account_holder}: £{self.balance}')\n",
    "        \n",
    "    def create_account_number(self , account_holder , initial_balance= 0):\n",
    "        self.account_holder = account_holder\n",
    "        self.balance = initial_balance\n",
    "        self.account_number = self.generate_account_number()\n",
    "        print(f'Account created for {self.account_holder} with the account{account_number}.')\n",
    "        \n",
    "    def view_information(self):\n",
    "        print(f'Account information /n Account_holder: {self.account_holder} /n Account_number: {self.account_number} /n Balance:£{self.balance}' )\n",
    "        \n",
    "        \n",
    "     \n",
    "        "
   ]
  },
  {
   "cell_type": "code",
   "execution_count": null,
   "id": "6b5d8b2d",
   "metadata": {},
   "outputs": [],
   "source": []
  },
  {
   "cell_type": "code",
   "execution_count": null,
   "id": "c1640a08",
   "metadata": {},
   "outputs": [],
   "source": []
  },
  {
   "cell_type": "code",
   "execution_count": null,
   "id": "2b8c3377",
   "metadata": {},
   "outputs": [],
   "source": []
  },
  {
   "cell_type": "code",
   "execution_count": null,
   "id": "55cb42e3",
   "metadata": {},
   "outputs": [],
   "source": []
  },
  {
   "cell_type": "code",
   "execution_count": null,
   "id": "4fafa876",
   "metadata": {},
   "outputs": [],
   "source": []
  },
  {
   "cell_type": "code",
   "execution_count": null,
   "id": "0fbd5c02",
   "metadata": {},
   "outputs": [],
   "source": []
  },
  {
   "cell_type": "code",
   "execution_count": null,
   "id": "c219097d",
   "metadata": {},
   "outputs": [],
   "source": []
  }
 ],
 "metadata": {
  "kernelspec": {
   "display_name": "Python 3 (ipykernel)",
   "language": "python",
   "name": "python3"
  },
  "language_info": {
   "codemirror_mode": {
    "name": "ipython",
    "version": 3
   },
   "file_extension": ".py",
   "mimetype": "text/x-python",
   "name": "python",
   "nbconvert_exporter": "python",
   "pygments_lexer": "ipython3",
   "version": "3.9.13"
  }
 },
 "nbformat": 4,
 "nbformat_minor": 5
}
