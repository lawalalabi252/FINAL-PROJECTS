{
 "cells": [
  {
   "cell_type": "code",
   "execution_count": 1,
   "id": "3738153e",
   "metadata": {},
   "outputs": [],
   "source": [
    " # using dictionary method "
   ]
  },
  {
   "cell_type": "code",
   "execution_count": 2,
   "id": "d980a37b",
   "metadata": {},
   "outputs": [],
   "source": [
    "import pandas as pd"
   ]
  },
  {
   "cell_type": "code",
   "execution_count": 3,
   "id": "92e3f581",
   "metadata": {},
   "outputs": [],
   "source": [
    "data = [\n",
    "     {'Name':'Hafsat', 'Age': 25 , 'Department':'computer science'},\n",
    "     {'Name':'kemi', 'Age': 25 , 'Department':'computer science'},\n",
    "     {'Name':'Aisha', 'Age': 25 , 'Department':'computer science'},\n",
    "     {'Name':'Bimbo', 'Age': 25 , 'Department':'computer science'},\n",
    "     {'Name':'mar', 'Age': 25 , 'Department':'computer science'},\n",
    "     {'Name':'Hafsat', 'Age': 25 , 'Department':'computer science'},\n",
    "     {'Name':'Hafsat', 'Age': 25 , 'Department':'computer science'},\n",
    "]"
   ]
  },
  {
   "cell_type": "code",
   "execution_count": 4,
   "id": "9c1bedde",
   "metadata": {},
   "outputs": [],
   "source": [
    "import pandas as pd\n",
    "\n",
    "details = [('John', 25, 'HR', 'Pizza'),\n",
    "           ('Alice', 30, 'IT', 'Sushi'),\n",
    "           ('Bob', 28, 'Marketing', 'Burgers')]\n",
    "\n",
    "columns = ['Names', 'Age', 'Department', 'Best food']\n",
    "\n",
    "data = pd.DataFrame(details, columns=columns)\n"
   ]
  },
  {
   "cell_type": "code",
   "execution_count": null,
   "id": "7874395f",
   "metadata": {},
   "outputs": [],
   "source": []
  },
  {
   "cell_type": "code",
   "execution_count": null,
   "id": "94e2485a",
   "metadata": {},
   "outputs": [],
   "source": []
  },
  {
   "cell_type": "code",
   "execution_count": null,
   "id": "94004c37",
   "metadata": {},
   "outputs": [],
   "source": []
  }
 ],
 "metadata": {
  "kernelspec": {
   "display_name": "Python 3 (ipykernel)",
   "language": "python",
   "name": "python3"
  },
  "language_info": {
   "codemirror_mode": {
    "name": "ipython",
    "version": 3
   },
   "file_extension": ".py",
   "mimetype": "text/x-python",
   "name": "python",
   "nbconvert_exporter": "python",
   "pygments_lexer": "ipython3",
   "version": "3.9.13"
  }
 },
 "nbformat": 4,
 "nbformat_minor": 5
}
