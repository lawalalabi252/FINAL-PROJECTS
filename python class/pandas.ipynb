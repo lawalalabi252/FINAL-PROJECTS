{
 "cells": [
  {
   "cell_type": "code",
   "execution_count": 1,
   "id": "eb041924",
   "metadata": {},
   "outputs": [],
   "source": [
    "import pandas as pd"
   ]
  },
  {
   "cell_type": "code",
   "execution_count": 2,
   "id": "e3933459",
   "metadata": {},
   "outputs": [],
   "source": [
    "list = ['hasfat','Ayomide','eniola','Aisha','kemi','mariam','shakirah','bimbo', 'fathia','shukuroh','taofik','whykay','nimat','toyin','Bolu','ife','precious','layo','ola','wale']\n",
    "Age = [10, 12, 14 , 17 , 20 ,18, 12, 23, 51, 34, 25, 28, 41,19,34,25,35,16,51,27]\n",
    "Department = ['computer science','engineering','mass com','agric sci','physics','industrial chemistry','education','English','business admin','Geology','public Admin',\n",
    "            'civil engineering', 'material sci', 'chemical Engineering','Micro biology','computer science', 'Biology','Mathematics','Geology', 'mass com']\n",
    "Best_Food = ['Rice','Amala','semovita','pando yam','Beans','fufu','yam', 'spagetti','noddles','Rice' ,'Beans', 'Garri','yam','panded yam', 'Beans', 'Rice','Rice','spagetti'\n",
    "         'beans', 'Amala','pando']"
   ]
  },
  {
   "cell_type": "code",
   "execution_count": 3,
   "id": "9b79a23d",
   "metadata": {},
   "outputs": [],
   "source": [
    "data_dict = {'NAMES':list,\n",
    "             'AGE':Age ,\n",
    "             'DEPARTMENT':Department,\n",
    "            'BEST FOOD':Best_Food}\n",
    "data = pd.DataFrame(data_dict)"
   ]
  },
  {
   "cell_type": "code",
   "execution_count": 4,
   "id": "a595501d",
   "metadata": {},
   "outputs": [
    {
     "name": "stdout",
     "output_type": "stream",
     "text": [
      "       NAMES  AGE            DEPARTMENT      BEST FOOD\n",
      "0     hasfat   10      computer science           Rice\n",
      "1    Ayomide   12           engineering          Amala\n",
      "2     eniola   14              mass com       semovita\n",
      "3      Aisha   17             agric sci      pando yam\n",
      "4       kemi   20               physics          Beans\n",
      "5     mariam   18  industrial chemistry           fufu\n",
      "6   shakirah   12             education            yam\n",
      "7      bimbo   23               English       spagetti\n",
      "8     fathia   51        business admin        noddles\n",
      "9   shukuroh   34               Geology           Rice\n",
      "10    taofik   25          public Admin          Beans\n",
      "11    whykay   28     civil engineering          Garri\n",
      "12     nimat   41          material sci            yam\n",
      "13     toyin   19  chemical Engineering     panded yam\n",
      "14      Bolu   34         Micro biology          Beans\n",
      "15       ife   25      computer science           Rice\n",
      "16  precious   35               Biology           Rice\n",
      "17      layo   16           Mathematics  spagettibeans\n",
      "18       ola   51               Geology          Amala\n",
      "19      wale   27              mass com          pando\n"
     ]
    }
   ],
   "source": [
    "print(data)"
   ]
  },
  {
   "cell_type": "code",
   "execution_count": null,
   "id": "38b48272",
   "metadata": {},
   "outputs": [],
   "source": []
  },
  {
   "cell_type": "code",
   "execution_count": 5,
   "id": "6dbc7e2a",
   "metadata": {},
   "outputs": [],
   "source": [
    " # using tuple method "
   ]
  },
  {
   "cell_type": "code",
   "execution_count": 6,
   "id": "860a0c8f",
   "metadata": {},
   "outputs": [],
   "source": [
    "import pandas as pd"
   ]
  },
  {
   "cell_type": "code",
   "execution_count": 7,
   "id": "3d8950f4",
   "metadata": {},
   "outputs": [],
   "source": [
    "data = [\n",
    "     ('aisha',15,'computer science','Rice'),\n",
    "     ('alabi',12,'Business admin','pando yam'),\n",
    "     ('afolabi',34,'agric sci','fufu'),\n",
    "     ('layo', 24, 'Biology','eba'),\n",
    "     ('toyin',15 ,'mass com','Rice'),    \n",
    "       \n",
    "]"
   ]
  },
  {
   "cell_type": "code",
   "execution_count": 8,
   "id": "64d33cb6",
   "metadata": {},
   "outputs": [
    {
     "ename": "AttributeError",
     "evalue": "module 'pandas' has no attribute 'series'",
     "output_type": "error",
     "traceback": [
      "\u001b[1;31m---------------------------------------------------------------------------\u001b[0m",
      "\u001b[1;31mAttributeError\u001b[0m                            Traceback (most recent call last)",
      "\u001b[1;32m~\\AppData\\Local\\Temp\\ipykernel_824\\899966163.py\u001b[0m in \u001b[0;36m<module>\u001b[1;34m\u001b[0m\n\u001b[1;32m----> 1\u001b[1;33m \u001b[0mseries\u001b[0m \u001b[1;33m=\u001b[0m \u001b[0mpd\u001b[0m\u001b[1;33m.\u001b[0m\u001b[0mseries\u001b[0m\u001b[1;33m(\u001b[0m\u001b[0mdata\u001b[0m\u001b[1;33m)\u001b[0m\u001b[1;33m\u001b[0m\u001b[1;33m\u001b[0m\u001b[0m\n\u001b[0m",
      "\u001b[1;32m~\\anaconda3\\lib\\site-packages\\pandas\\__init__.py\u001b[0m in \u001b[0;36m__getattr__\u001b[1;34m(name)\u001b[0m\n\u001b[0;32m    259\u001b[0m         \u001b[1;32mreturn\u001b[0m \u001b[0m_SparseArray\u001b[0m\u001b[1;33m\u001b[0m\u001b[1;33m\u001b[0m\u001b[0m\n\u001b[0;32m    260\u001b[0m \u001b[1;33m\u001b[0m\u001b[0m\n\u001b[1;32m--> 261\u001b[1;33m     \u001b[1;32mraise\u001b[0m \u001b[0mAttributeError\u001b[0m\u001b[1;33m(\u001b[0m\u001b[1;34mf\"module 'pandas' has no attribute '{name}'\"\u001b[0m\u001b[1;33m)\u001b[0m\u001b[1;33m\u001b[0m\u001b[1;33m\u001b[0m\u001b[0m\n\u001b[0m\u001b[0;32m    262\u001b[0m \u001b[1;33m\u001b[0m\u001b[0m\n\u001b[0;32m    263\u001b[0m \u001b[1;33m\u001b[0m\u001b[0m\n",
      "\u001b[1;31mAttributeError\u001b[0m: module 'pandas' has no attribute 'series'"
     ]
    }
   ],
   "source": [
    "series = pd.series(data)"
   ]
  },
  {
   "cell_type": "code",
   "execution_count": null,
   "id": "57e349ac",
   "metadata": {},
   "outputs": [],
   "source": []
  },
  {
   "cell_type": "code",
   "execution_count": null,
   "id": "9c771ef6",
   "metadata": {},
   "outputs": [],
   "source": []
  },
  {
   "cell_type": "code",
   "execution_count": 9,
   "id": "93ccb85e",
   "metadata": {},
   "outputs": [],
   "source": [
    "import pandas as pd"
   ]
  },
  {
   "cell_type": "code",
   "execution_count": 10,
   "id": "6274a904",
   "metadata": {},
   "outputs": [],
   "source": [
    "list = ['hasfat','Ayomide','eniola','Aisha','kemi','mariam','shakirah','bimbo', 'fathia','shukuroh','taofik','whykay','nimat','toyin','Bolu','ife','precious','layo','ola','wale']\n",
    "Age = [10, 12, 14 , 17 , 20 ,18, 12, 23, 51, 34, 25, 28, 41,19,34,25,35,16,51,27]\n",
    "Department = ['computer science','engineering','mass com','agric sci','physics','industrial chemistry','education','English','business admin','Geology','public Admin',\n",
    "            'civil engineering', 'material sci', 'chemical Engineering','Micro biology','computer science', 'Biology','Mathematics','Geology', 'mass com']\n",
    "Best_Food = ['Rice','Amala','semovita','pando yam','Beans','fufu','yam', 'spagetti','noddles','Rice' ,'Beans', 'Garri','yam','panded yam', 'Beans', 'Rice','Rice','spagetti'\n",
    "         'beans', 'Amala','pando']"
   ]
  },
  {
   "cell_type": "code",
   "execution_count": 11,
   "id": "77ff3704",
   "metadata": {},
   "outputs": [
    {
     "ename": "AttributeError",
     "evalue": "module 'pandas' has no attribute 'series'",
     "output_type": "error",
     "traceback": [
      "\u001b[1;31m---------------------------------------------------------------------------\u001b[0m",
      "\u001b[1;31mAttributeError\u001b[0m                            Traceback (most recent call last)",
      "\u001b[1;32m~\\AppData\\Local\\Temp\\ipykernel_824\\1521496641.py\u001b[0m in \u001b[0;36m<module>\u001b[1;34m\u001b[0m\n\u001b[1;32m----> 1\u001b[1;33m \u001b[0mseries\u001b[0m \u001b[1;33m=\u001b[0m \u001b[0mpd\u001b[0m\u001b[1;33m.\u001b[0m\u001b[0mseries\u001b[0m\u001b[1;33m(\u001b[0m\u001b[0mlist\u001b[0m\u001b[1;33m)\u001b[0m\u001b[1;33m\u001b[0m\u001b[1;33m\u001b[0m\u001b[0m\n\u001b[0m",
      "\u001b[1;32m~\\anaconda3\\lib\\site-packages\\pandas\\__init__.py\u001b[0m in \u001b[0;36m__getattr__\u001b[1;34m(name)\u001b[0m\n\u001b[0;32m    259\u001b[0m         \u001b[1;32mreturn\u001b[0m \u001b[0m_SparseArray\u001b[0m\u001b[1;33m\u001b[0m\u001b[1;33m\u001b[0m\u001b[0m\n\u001b[0;32m    260\u001b[0m \u001b[1;33m\u001b[0m\u001b[0m\n\u001b[1;32m--> 261\u001b[1;33m     \u001b[1;32mraise\u001b[0m \u001b[0mAttributeError\u001b[0m\u001b[1;33m(\u001b[0m\u001b[1;34mf\"module 'pandas' has no attribute '{name}'\"\u001b[0m\u001b[1;33m)\u001b[0m\u001b[1;33m\u001b[0m\u001b[1;33m\u001b[0m\u001b[0m\n\u001b[0m\u001b[0;32m    262\u001b[0m \u001b[1;33m\u001b[0m\u001b[0m\n\u001b[0;32m    263\u001b[0m \u001b[1;33m\u001b[0m\u001b[0m\n",
      "\u001b[1;31mAttributeError\u001b[0m: module 'pandas' has no attribute 'series'"
     ]
    }
   ],
   "source": [
    "series = pd.series(list)"
   ]
  },
  {
   "cell_type": "code",
   "execution_count": null,
   "id": "6485e40f",
   "metadata": {},
   "outputs": [],
   "source": [
    "series"
   ]
  },
  {
   "cell_type": "code",
   "execution_count": null,
   "id": "e5dceec8",
   "metadata": {},
   "outputs": [],
   "source": []
  },
  {
   "cell_type": "code",
   "execution_count": null,
   "id": "8b4435fd",
   "metadata": {},
   "outputs": [],
   "source": []
  }
 ],
 "metadata": {
  "kernelspec": {
   "display_name": "Python 3 (ipykernel)",
   "language": "python",
   "name": "python3"
  },
  "language_info": {
   "codemirror_mode": {
    "name": "ipython",
    "version": 3
   },
   "file_extension": ".py",
   "mimetype": "text/x-python",
   "name": "python",
   "nbconvert_exporter": "python",
   "pygments_lexer": "ipython3",
   "version": "3.9.13"
  }
 },
 "nbformat": 4,
 "nbformat_minor": 5
}
