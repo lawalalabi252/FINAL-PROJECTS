{
 "cells": [
  {
   "cell_type": "markdown",
   "id": "2c239425",
   "metadata": {},
   "source": [
    "#  create a method for calculator class  that can do the following \n",
    "#  add two numbers\n",
    "#  substract two numbers\n",
    "#  multiply two numbers\n",
    "#  divide two numbers"
   ]
  },
  {
   "cell_type": "code",
   "execution_count": 1,
   "id": "c209fda8",
   "metadata": {},
   "outputs": [],
   "source": [
    "class calculator:\n",
    "    def __init__ (self, num1 , num2):\n",
    "            self.num1 = num1\n",
    "            self.num2 = num2\n",
    "            \n",
    "    def  add(self):\n",
    "        return self.num1 + self.num2\n",
    "    \n",
    "    def  substract(self):\n",
    "        return self.num1 - self.num2\n",
    "    \n",
    "    def  multiply(self):\n",
    "        return self.num1 * self.num2\n",
    "    \n",
    "    def  divide(self):\n",
    "        return self.num1 /self.num2"
   ]
  },
  {
   "cell_type": "code",
   "execution_count": 2,
   "id": "8b2943ee",
   "metadata": {},
   "outputs": [
    {
     "name": "stdout",
     "output_type": "stream",
     "text": [
      "addition:22\n",
      "substract:18\n",
      "multiply:40\n",
      "divide:10.0\n"
     ]
    }
   ],
   "source": [
    "calc = calculator(num1 = 20 , num2 = 2)\n",
    "print(f'addition:{calc.add()}')\n",
    "print(f'substract:{calc.substract()}')\n",
    "print(f'multiply:{calc.multiply()}')\n",
    "print(f'divide:{calc.divide()}')"
   ]
  },
  {
   "cell_type": "code",
   "execution_count": null,
   "id": "a98cbd8d",
   "metadata": {},
   "outputs": [],
   "source": []
  },
  {
   "cell_type": "code",
   "execution_count": null,
   "id": "7659b504",
   "metadata": {},
   "outputs": [],
   "source": []
  },
  {
   "cell_type": "markdown",
   "id": "ed1c723d",
   "metadata": {},
   "source": [
    "#  given an int,figure out how many ones threes and nines you could fit into the number. you must create a class. you will make variables self.ones, self.threes , self.nines to do this."
   ]
  },
  {
   "cell_type": "code",
   "execution_count": 54,
   "id": "a265df1e",
   "metadata": {},
   "outputs": [],
   "source": [
    "class countOnesThreesNines:\n",
    "    def __init__(self, num):\n",
    "        self.num = num\n",
    "        self.ones =  self.calculate_count(1)\n",
    "        self.threes = self.calculate_count(3)\n",
    "        self.nines = self.calculate_count(9) \n",
    "        \n",
    "    def calculate_count(self, divisor):\n",
    "        return self.num // divisor"
   ]
  },
  {
   "cell_type": "code",
   "execution_count": 53,
   "id": "cfcf4e3d",
   "metadata": {},
   "outputs": [
    {
     "name": "stdout",
     "output_type": "stream",
     "text": [
      "Number: 25\n",
      "ones:25\n",
      "threes:8\n",
      "nines:2\n"
     ]
    }
   ],
   "source": [
    "input_number = 25\n",
    "counter = countOnesThreesNines(input_number)\n",
    "\n",
    "print(f\"Number: {input_number}\")\n",
    "print(f\"ones:{counter.ones}\")\n",
    "print(f\"threes:{counter.threes}\")\n",
    "print(f\"nines:{counter.nines}\")"
   ]
  },
  {
   "cell_type": "code",
   "execution_count": 28,
   "id": "740ecb3d",
   "metadata": {},
   "outputs": [],
   "source": [
    "class Human:\n",
    "    def __init__ (self, name , Age = 20 ):\n",
    "        self.name = name\n",
    "        self.Age = Age\n",
    "    def eat(self):\n",
    "        print (f'{self.name} like to eat beans')"
   ]
  },
  {
   "cell_type": "code",
   "execution_count": 29,
   "id": "ec5ad5b5",
   "metadata": {},
   "outputs": [
    {
     "name": "stdout",
     "output_type": "stream",
     "text": [
      "Name: lawal, Age: 20\n"
     ]
    },
    {
     "data": {
      "text/plain": [
       "<bound method Human.eat of <__main__.Human object at 0x000002782F647D30>>"
      ]
     },
     "execution_count": 29,
     "metadata": {},
     "output_type": "execute_result"
    }
   ],
   "source": [
    "person = Human(name = 'lawal', Age = 20)\n",
    "print(f'Name: {person.name}, Age: {person.Age}')\n",
    "person.eat"
   ]
  },
  {
   "cell_type": "code",
   "execution_count": null,
   "id": "39ead4e6",
   "metadata": {},
   "outputs": [],
   "source": []
  },
  {
   "cell_type": "code",
   "execution_count": 15,
   "id": "1147a849",
   "metadata": {},
   "outputs": [],
   "source": [
    "class BankAccount:\n",
    "    def __init__(self,account_holder ,account_balance= 0):\n",
    "        self.account_holder = account_holder\n",
    "        self.account_balance = account_balance\n",
    "        \n",
    "    def deposit(self , amount):\n",
    "        if amount > 0:\n",
    "            self.account_balance += amount\n",
    "            print(f'deposited £{amount}. New_balance:£{self.account_balance}' )\n",
    "        else:\n",
    "            print('Refund your Account.')\n",
    "    def  withdraw(self, amount):\n",
    "        \n",
    "        if amount > 0 and amount <= self.account_balance:\n",
    "            self.account_balance -= amount\n",
    "            print(f'withdrew £{amount}. New_balance: £{self.account_balance}')\n",
    "        else:\n",
    "            print('insufficient fund')\n",
    "    def  check_balance(self):\n",
    "            print(f'Account balance: DEAR,{self.account_holder}:Your Balance is: £{self.account_balance}')\n",
    "            "
   ]
  },
  {
   "cell_type": "code",
   "execution_count": 16,
   "id": "e6446c41",
   "metadata": {},
   "outputs": [
    {
     "name": "stdout",
     "output_type": "stream",
     "text": [
      "Account balance: DEAR,LAWAL MUHAMMED ALABI:Your Balance is: £100000\n",
      "deposited £100000. New_balance:£200000\n",
      "withdrew £50000. New_balance: £150000\n"
     ]
    }
   ],
   "source": [
    "account  = BankAccount(\"LAWAL MUHAMMED ALABI\", 100000)\n",
    "account.check_balance()\n",
    "account.deposit(100000)\n",
    "account.withdraw(50000)"
   ]
  },
  {
   "cell_type": "code",
   "execution_count": null,
   "id": "3891baaa",
   "metadata": {},
   "outputs": [],
   "source": []
  },
  {
   "cell_type": "code",
   "execution_count": null,
   "id": "90d2105f",
   "metadata": {},
   "outputs": [],
   "source": []
  },
  {
   "cell_type": "code",
   "execution_count": null,
   "id": "78f0e1d3",
   "metadata": {},
   "outputs": [],
   "source": []
  },
  {
   "cell_type": "code",
   "execution_count": null,
   "id": "ea9b8708",
   "metadata": {},
   "outputs": [],
   "source": []
  },
  {
   "cell_type": "code",
   "execution_count": null,
   "id": "60d6aebf",
   "metadata": {},
   "outputs": [],
   "source": []
  }
 ],
 "metadata": {
  "kernelspec": {
   "display_name": "Python 3 (ipykernel)",
   "language": "python",
   "name": "python3"
  },
  "language_info": {
   "codemirror_mode": {
    "name": "ipython",
    "version": 3
   },
   "file_extension": ".py",
   "mimetype": "text/x-python",
   "name": "python",
   "nbconvert_exporter": "python",
   "pygments_lexer": "ipython3",
   "version": "3.9.13"
  }
 },
 "nbformat": 4,
 "nbformat_minor": 5
}
