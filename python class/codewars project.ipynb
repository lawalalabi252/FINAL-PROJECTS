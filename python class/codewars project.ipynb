{
 "cells": [
  {
   "cell_type": "code",
   "execution_count": 1,
   "id": "2649f8f8",
   "metadata": {},
   "outputs": [],
   "source": [
    "def bool_to_word(boolean):\n",
    "        if boolean == True:\n",
    "            return \"Yes\"\n",
    "        elif boolean == False:\n",
    "            return \"No\""
   ]
  },
  {
   "cell_type": "code",
   "execution_count": 2,
   "id": "f5366458",
   "metadata": {},
   "outputs": [
    {
     "name": "stdout",
     "output_type": "stream",
     "text": [
      "No\n"
     ]
    }
   ],
   "source": [
    "result = bool_to_word(False)\n",
    "print(result)"
   ]
  },
  {
   "cell_type": "code",
   "execution_count": 1,
   "id": "c7e3189e",
   "metadata": {},
   "outputs": [],
   "source": [
    "def is_pelindrome(word):\n",
    "    word = ''.join(word.lower().split())\n",
    "    return word == word[::-1]"
   ]
  },
  {
   "cell_type": "code",
   "execution_count": 2,
   "id": "ed75eee7",
   "metadata": {},
   "outputs": [
    {
     "name": "stdout",
     "output_type": "stream",
     "text": [
      "madam is a pelindrome\n"
     ]
    }
   ],
   "source": [
    "word =\"madam\"\n",
    "if is_pelindrome(word):\n",
    "    print(f'{word} is a pelindrome')\n",
    "else:\n",
    "     print(f'{word} is not a pelindrome')      "
   ]
  },
  {
   "cell_type": "code",
   "execution_count": 15,
   "id": "21906067",
   "metadata": {},
   "outputs": [],
   "source": [
    "class BankAccount:\n",
    "    def __init__ (self, account_holder , account_balance):\n",
    "        self.account_holder = account_holder\n",
    "        self.account_balance = account_balance\n",
    "    def deposit(self, amount):\n",
    "        if amount > 0:\n",
    "            self.account_balance += amount\n",
    "            print (f' Deposited_amount £{amount}. New_balance{self.account_balance}')\n",
    "        else:\n",
    "            print ('fund your account')\n",
    "    def withdrawal(self, amount):\n",
    "        if amount > 0 and amount <= self.account_balance:\n",
    "            self.account_balance -= amount\n",
    "            print(f'withdrawal £{amount}. New_balance {self.account_balance}')\n",
    "        else:\n",
    "            print('insufficient fund')\n",
    "    def check_balance(self):\n",
    "        print(f'Account balance for {self.account_holder}: £{self.account_balance}')"
   ]
  },
  {
   "cell_type": "code",
   "execution_count": 16,
   "id": "f218646c",
   "metadata": {},
   "outputs": [
    {
     "name": "stdout",
     "output_type": "stream",
     "text": [
      "Account balance for lawal muhammed Alabi: £200000\n",
      " Deposited_amount £300000. New_balance500000\n",
      "withdrawal £150000. New_balance 350000\n"
     ]
    }
   ],
   "source": [
    "Account = BankAccount('lawal muhammed Alabi', 200000)\n",
    "Account.check_balance()\n",
    "Account.deposit(300000)\n",
    "Account.withdrawal(150000)"
   ]
  },
  {
   "cell_type": "code",
   "execution_count": null,
   "id": "a337e9fb",
   "metadata": {},
   "outputs": [],
   "source": []
  },
  {
   "cell_type": "code",
   "execution_count": 1,
   "id": "054efc70",
   "metadata": {},
   "outputs": [],
   "source": [
    "num = [ i for i in range (10)]"
   ]
  },
  {
   "cell_type": "code",
   "execution_count": 2,
   "id": "9f405ece",
   "metadata": {},
   "outputs": [
    {
     "name": "stdout",
     "output_type": "stream",
     "text": [
      "[0, 1, 2, 3, 4, 5, 6, 7, 8, 9]\n"
     ]
    }
   ],
   "source": [
    "print(num)"
   ]
  },
  {
   "cell_type": "code",
   "execution_count": 3,
   "id": "c82f2c4f",
   "metadata": {},
   "outputs": [],
   "source": [
    "even = [ for i in range(50) i]"
   ]
  },
  {
   "cell_type": "code",
   "execution_count": 4,
   "id": "a1e30be0",
   "metadata": {},
   "outputs": [
    {
     "name": "stdout",
     "output_type": "stream",
     "text": [
      "[0, 1, 2, 3, 4, 5, 6, 7, 8, 9, 10, 11, 12, 13, 14, 15, 16, 17, 18, 19, 20, 21, 22, 23, 24, 25, 26, 27, 28, 29, 30, 31, 32, 33, 34, 35, 36, 37, 38, 39, 40, 41, 42, 43, 44, 45, 46, 47, 48, 49]\n"
     ]
    }
   ],
   "source": [
    "print(even)"
   ]
  },
  {
   "cell_type": "code",
   "execution_count": null,
   "id": "d383b530",
   "metadata": {},
   "outputs": [],
   "source": []
  },
  {
   "cell_type": "code",
   "execution_count": null,
   "id": "83dfa961",
   "metadata": {},
   "outputs": [],
   "source": []
  },
  {
   "cell_type": "code",
   "execution_count": null,
   "id": "4d3cd4f1",
   "metadata": {},
   "outputs": [],
   "source": []
  },
  {
   "cell_type": "code",
   "execution_count": null,
   "id": "6af137f8",
   "metadata": {},
   "outputs": [],
   "source": []
  },
  {
   "cell_type": "code",
   "execution_count": 4,
   "id": "49292440",
   "metadata": {},
   "outputs": [],
   "source": [
    "def is_palindrome(s):\n",
    "    s = s.lower()\n",
    "    return s == s[::-1]"
   ]
  },
  {
   "cell_type": "code",
   "execution_count": 5,
   "id": "1f1812d1",
   "metadata": {},
   "outputs": [],
   "source": [
    "def is_palindrome(s):\n",
    "    s = s.lower()\n",
    "    return s == s[::-1]"
   ]
  },
  {
   "cell_type": "code",
   "execution_count": 8,
   "id": "1e1e808e",
   "metadata": {
    "scrolled": true
   },
   "outputs": [
    {
     "name": "stdout",
     "output_type": "stream",
     "text": [
      "1080022\n"
     ]
    }
   ],
   "source": [
    "def sum_str(a, b):\n",
    "    num_a = int(a)\n",
    "    num_b =int(b)\n",
    "    result = num_a + num_b\n",
    "    return result\n",
    "result = sum_str ('815999','264023')\n",
    "print(result)\n"
   ]
  },
  {
   "cell_type": "code",
   "execution_count": null,
   "id": "b9def9fa",
   "metadata": {},
   "outputs": [],
   "source": []
  },
  {
   "cell_type": "code",
   "execution_count": null,
   "id": "c1d57806",
   "metadata": {},
   "outputs": [],
   "source": []
  },
  {
   "cell_type": "code",
   "execution_count": null,
   "id": "b197c574",
   "metadata": {},
   "outputs": [],
   "source": []
  }
 ],
 "metadata": {
  "kernelspec": {
   "display_name": "Python 3 (ipykernel)",
   "language": "python",
   "name": "python3"
  },
  "language_info": {
   "codemirror_mode": {
    "name": "ipython",
    "version": 3
   },
   "file_extension": ".py",
   "mimetype": "text/x-python",
   "name": "python",
   "nbconvert_exporter": "python",
   "pygments_lexer": "ipython3",
   "version": "3.9.13"
  }
 },
 "nbformat": 4,
 "nbformat_minor": 5
}
