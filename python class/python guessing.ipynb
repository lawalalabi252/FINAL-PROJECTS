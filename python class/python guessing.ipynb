{
 "cells": [
  {
   "cell_type": "code",
   "execution_count": 3,
   "id": "84b47f92",
   "metadata": {},
   "outputs": [],
   "source": [
    "# python rock, paper, scissors game\n",
    "import random"
   ]
  },
  {
   "cell_type": "code",
   "execution_count": 4,
   "id": "47011b91",
   "metadata": {},
   "outputs": [
    {
     "name": "stdout",
     "output_type": "stream",
     "text": [
      "Input either rock, paper or scissorsscissors\n",
      "computer wins! move to the next round\n"
     ]
    }
   ],
   "source": [
    "def game():\n",
    "    user_choice = input('Input either rock, paper or scissors')\n",
    "    user_score = 0\n",
    "    computer_choice = random.choice(['rock', 'paper', 'scissors'])\n",
    "    computer_score = 0\n",
    "    \n",
    "    if user_choice =='paper' and computer_choice == 'rock':\n",
    "        print('User wins!move to the next round')\n",
    "        user_score += 1\n",
    "    elif user_choice == 'rock' and computer_choice == 'scissors':\n",
    "        print('User wins! move to the next round')\n",
    "        user_score += 1\n",
    "    elif user_choice == 'scissors' and computer_choice == 'paper':\n",
    "        print('User wins! move to the next round')\n",
    "        user_score += 1\n",
    "    elif user_choice == 'paper' and computer_choice =='paper':\n",
    "        print(\"it's a tied\")\n",
    "    elif user_choice == 'rock' and computer_choice =='rock':\n",
    "        print(\"it's a tied\")\n",
    "    elif user_choice == 'scissors' and computer_choice =='scissors': \n",
    "        print(\"it's a tied\")\n",
    "    elif computer_choice == 'paper'  and user_choice == 'rock':\n",
    "        print('computer wins! move to the next round')\n",
    "    elif computer_choice == 'rock'  and user_choice == 'scissors':\n",
    "        print('computer wins! move to the next round')\n",
    "    elif computer_choice == 'scissors'  and user_choice == 'paper':\n",
    "        print('computer wins! move to the next round')\n",
    "    elif computer_choice == 'paper'  and user_choice == 'paper':\n",
    "        print(\"it's a tied\")\n",
    "    elif computer_choice == 'rock'  and user_choice == 'rock':\n",
    "        print(\"it's a tied\")\n",
    "    elif computer_choice == 'scissors'  and user_choice == 'scissors':\n",
    "        print(\"it's a tied\")\n",
    "    else:\n",
    "        print(\"invalid\")\n",
    "game()"
   ]
  },
  {
   "cell_type": "code",
   "execution_count": null,
   "id": "b5510891",
   "metadata": {},
   "outputs": [],
   "source": []
  },
  {
   "cell_type": "code",
   "execution_count": null,
   "id": "ed8ad3ef",
   "metadata": {},
   "outputs": [],
   "source": []
  },
  {
   "cell_type": "code",
   "execution_count": null,
   "id": "a5136839",
   "metadata": {},
   "outputs": [],
   "source": []
  },
  {
   "cell_type": "code",
   "execution_count": null,
   "id": "62ecdf5a",
   "metadata": {},
   "outputs": [],
   "source": []
  }
 ],
 "metadata": {
  "kernelspec": {
   "display_name": "Python 3 (ipykernel)",
   "language": "python",
   "name": "python3"
  },
  "language_info": {
   "codemirror_mode": {
    "name": "ipython",
    "version": 3
   },
   "file_extension": ".py",
   "mimetype": "text/x-python",
   "name": "python",
   "nbconvert_exporter": "python",
   "pygments_lexer": "ipython3",
   "version": "3.9.13"
  }
 },
 "nbformat": 4,
 "nbformat_minor": 5
}
