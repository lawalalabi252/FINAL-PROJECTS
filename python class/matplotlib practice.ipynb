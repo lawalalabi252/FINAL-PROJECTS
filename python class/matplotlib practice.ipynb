{
 "cells": [
  {
   "cell_type": "code",
   "execution_count": 1,
   "id": "1fad29c5",
   "metadata": {},
   "outputs": [],
   "source": [
    "import pandas as pd\n",
    "import numpy as np\n",
    "\n",
    "import matplotlib.pyplot as plt\n",
    "import seaborn as sn"
   ]
  },
  {
   "cell_type": "code",
   "execution_count": 4,
   "id": "e4d57592",
   "metadata": {},
   "outputs": [],
   "source": [
    "x = np.array([1, 3, 2, 4, 5, 3, 4])"
   ]
  },
  {
   "cell_type": "code",
   "execution_count": 6,
   "id": "f08c8e1a",
   "metadata": {},
   "outputs": [
    {
     "data": {
      "text/plain": [
       "dtype('int32')"
      ]
     },
     "execution_count": 6,
     "metadata": {},
     "output_type": "execute_result"
    }
   ],
   "source": [
    "x.dtype"
   ]
  },
  {
   "cell_type": "code",
   "execution_count": 10,
   "id": "2c44890d",
   "metadata": {},
   "outputs": [
    {
     "data": {
      "text/plain": [
       "array([ 2,  5,  8, 11, 14, 17])"
      ]
     },
     "execution_count": 10,
     "metadata": {},
     "output_type": "execute_result"
    }
   ],
   "source": [
    "#np.ceil()\n",
    "# start stop and step\n",
    "np.arange(2, 20, 3)"
   ]
  },
  {
   "cell_type": "code",
   "execution_count": null,
   "id": "81704e36",
   "metadata": {},
   "outputs": [],
   "source": [
    "plt.bar()\n",
    "plt.barh()\n",
    "plt.boxplot()\n",
    "plt.hist() #histogram]\n",
    "plt.violinplot()"
   ]
  },
  {
   "cell_type": "code",
   "execution_count": null,
   "id": "d244ff9a",
   "metadata": {},
   "outputs": [],
   "source": [
    "sn.catplot() #categorical plot\n",
    "sn."
   ]
  },
  {
   "cell_type": "code",
   "execution_count": null,
   "id": "1ef8e4f5",
   "metadata": {},
   "outputs": [],
   "source": [
    "sn.load_dataset('')"
   ]
  }
 ],
 "metadata": {
  "kernelspec": {
   "display_name": "Python 3 (ipykernel)",
   "language": "python",
   "name": "python3"
  },
  "language_info": {
   "codemirror_mode": {
    "name": "ipython",
    "version": 3
   },
   "file_extension": ".py",
   "mimetype": "text/x-python",
   "name": "python",
   "nbconvert_exporter": "python",
   "pygments_lexer": "ipython3",
   "version": "3.9.13"
  }
 },
 "nbformat": 4,
 "nbformat_minor": 5
}
