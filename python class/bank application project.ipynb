{
 "cells": [
  {
   "cell_type": "code",
   "execution_count": 1,
   "id": "40e0448f",
   "metadata": {},
   "outputs": [],
   "source": [
    "class BankAccount:\n",
    "    def __init__(self,account_holder ,account_balance= 0):\n",
    "        self.account_holder = account_holder\n",
    "        self.account_balance = account_balance\n",
    "        \n",
    "    def deposit(self , amount):\n",
    "        if amount > 0:\n",
    "            self.account_balance += amount\n",
    "            print(f'deposit £{amount}. New balance:£{self.account_balance}')\n",
    "        else:\n",
    "            print('fund your Account.')\n",
    "    def  withdraw(self, amount):\n",
    "        if amount > 0 and amount <= self.account_balance:\n",
    "            self.account_balance -= amount\n",
    "            print(f'withdrew £{amount}. New balance: £{self.account_balance}')\n",
    "        else:\n",
    "            print('insufficient fund')\n",
    "    def  check_balance(self):\n",
    "            print(f'Account balance for {self.account_holder}: £{self.account_balance}')"
   ]
  },
  {
   "cell_type": "code",
   "execution_count": 2,
   "id": "a75df7e0",
   "metadata": {},
   "outputs": [
    {
     "name": "stdout",
     "output_type": "stream",
     "text": [
      "Account balance for Shukuroh Omolara: £100000\n",
      "deposit £80000. New balance:£180000\n",
      "withdrew £5000. New balance: £175000\n"
     ]
    }
   ],
   "source": [
    "account  = BankAccount('Shukuroh Omolara', 100000)\n",
    "account.check_balance()\n",
    "account.deposit(80000)\n",
    "account.withdraw(5000)"
   ]
  },
  {
   "cell_type": "code",
   "execution_count": null,
   "id": "3ff2962b",
   "metadata": {},
   "outputs": [],
   "source": []
  },
  {
   "cell_type": "code",
   "execution_count": 14,
   "id": "b31ca1e5",
   "metadata": {},
   "outputs": [],
   "source": [
    "class person:\n",
    "      def __init__(self , first_name , last_name):\n",
    "        self.full_name = f'{first_name} {last_name}'\n",
    "        self.email = f'{first_name.lower()}. {last_name.lower()}@company.com'\n",
    "        "
   ]
  },
  {
   "cell_type": "code",
   "execution_count": 15,
   "id": "08f25bf5",
   "metadata": {},
   "outputs": [
    {
     "name": "stdout",
     "output_type": "stream",
     "text": [
      "enter first_name: lawal\n",
      "enter last_name: alabi\n"
     ]
    }
   ],
   "source": [
    "first_name = input('enter first_name: ')\n",
    "last_name = input ('enter last_name: ')\n"
   ]
  },
  {
   "cell_type": "code",
   "execution_count": null,
   "id": "034512e5",
   "metadata": {},
   "outputs": [],
   "source": []
  },
  {
   "cell_type": "code",
   "execution_count": 73,
   "id": "42aa5f63",
   "metadata": {},
   "outputs": [],
   "source": [
    "class BankAccount:\n",
    "    def __init__(self , account_holder , account_balance = 0):\n",
    "        self.account_holder = account_holder\n",
    "        self.account_balance = account_balance \n",
    "    \n",
    "    def deposit(self , amount):\n",
    "        if amount > 0:\n",
    "            self.account_balance += amount\n",
    "            print(f'deposited £{amount}.New_balance:£{self.account_balance}')\n",
    "        else:\n",
    "            print('Refund your account')\n",
    "            \n",
    "    def withdraw(self , amount):\n",
    "        if amount > 0 and  amount <= self.account_balance:\n",
    "            self.account_balance -= amount\n",
    "            print(f'withdraw £{amount}.New_balance:£{self.account_balance}')\n",
    "        else:\n",
    "            print('insufficient fund')\n",
    "    def check_balance(self):\n",
    "        print(f'GT BANK: DEAR {self.account_holder}, YOUR ACCOUNT BALANCE IS £{self.account_balance}')"
   ]
  },
  {
   "cell_type": "code",
   "execution_count": 74,
   "id": "78a8aec3",
   "metadata": {},
   "outputs": [
    {
     "name": "stdout",
     "output_type": "stream",
     "text": [
      "GT BANK: DEAR LAWAL MUHAMMED ALABI, YOUR ACCOUNT BALANCE IS £90000\n",
      "deposited £300000.New_balance:£390000\n",
      "withdraw £3000.New_balance:£387000\n"
     ]
    }
   ],
   "source": [
    "Account = BankAccount(\"LAWAL MUHAMMED ALABI\", 90000 )\n",
    "Account.check_balance()\n",
    "Account.deposit(300000)\n",
    "Account.withdraw(3000)"
   ]
  },
  {
   "cell_type": "code",
   "execution_count": 52,
   "id": "36c1f695",
   "metadata": {},
   "outputs": [],
   "source": [
    "class calculator:\n",
    "    def __init__(self , num1 , num2):\n",
    "        self.num1 = num1\n",
    "        self.num2 = num2\n",
    "        \n",
    "    def add(self):\n",
    "        return self.num1 + self.num2\n",
    "    \n",
    "    def substract(self):\n",
    "        return self.num1 - self.num2\n",
    "    \n",
    "    def multiply(self):\n",
    "        return self.num1 * self.num2\n",
    "    \n",
    "    def divide(self):\n",
    "        return self.num1 / self.num2\n"
   ]
  },
  {
   "cell_type": "code",
   "execution_count": 53,
   "id": "4a2adc5c",
   "metadata": {},
   "outputs": [
    {
     "name": "stdout",
     "output_type": "stream",
     "text": [
      "addition:45\n",
      "substract:15\n",
      "multiply:450\n",
      "divide:2\n"
     ]
    }
   ],
   "source": [
    "calc = calculator(num1 = 30 , num2 = 15)\n",
    "print(f'addition:{calc.add()}')\n",
    "print(f'substract:{calc.substract()}')\n",
    "print(f'multiply:{calc.multiply()}')\n",
    "print(f'divide:{calc.divide()}')"
   ]
  },
  {
   "cell_type": "code",
   "execution_count": null,
   "id": "d37cf69a",
   "metadata": {},
   "outputs": [],
   "source": []
  },
  {
   "cell_type": "code",
   "execution_count": null,
   "id": "19367d71",
   "metadata": {},
   "outputs": [],
   "source": []
  },
  {
   "cell_type": "code",
   "execution_count": null,
   "id": "58e9d3dd",
   "metadata": {},
   "outputs": [],
   "source": []
  }
 ],
 "metadata": {
  "kernelspec": {
   "display_name": "Python 3 (ipykernel)",
   "language": "python",
   "name": "python3"
  },
  "language_info": {
   "codemirror_mode": {
    "name": "ipython",
    "version": 3
   },
   "file_extension": ".py",
   "mimetype": "text/x-python",
   "name": "python",
   "nbconvert_exporter": "python",
   "pygments_lexer": "ipython3",
   "version": "3.9.13"
  }
 },
 "nbformat": 4,
 "nbformat_minor": 5
}
