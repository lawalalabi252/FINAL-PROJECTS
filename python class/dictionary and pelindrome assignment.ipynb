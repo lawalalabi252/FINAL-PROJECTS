{
 "cells": [
  {
   "cell_type": "code",
   "execution_count": null,
   "id": "51e417e7",
   "metadata": {},
   "outputs": [],
   "source": [
    "#write a python function that accept if it's a pelindrome and if the word symmetrical -->"
   ]
  },
  {
   "cell_type": "code",
   "execution_count": 6,
   "id": "ec0edb24",
   "metadata": {
    "collapsed": true
   },
   "outputs": [],
   "source": [
    "def is_pelindrome(word):\n",
    "    word = ''.join(word.lower().split())\n",
    "    return word == word[::-1]"
   ]
  },
  {
   "cell_type": "code",
   "execution_count": 11,
   "id": "707c9b34",
   "metadata": {},
   "outputs": [
    {
     "name": "stdout",
     "output_type": "stream",
     "text": [
      "it's a pelindrome\n"
     ]
    }
   ],
   "source": [
    "word =\"lawal\"\n",
    "if is_pelindrome(word):\n",
    "    print(\"it's a pelindrome\")\n",
    "else:\n",
    "    print(\"it's not a pelindrome\")"
   ]
  },
  {
   "cell_type": "code",
   "execution_count": null,
   "id": "fdc8f621",
   "metadata": {},
   "outputs": [],
   "source": [
    "# write a python function that accept two parameters but the two parameters are list and and join into a\n",
    "# dictionary"
   ]
  },
  {
   "cell_type": "code",
   "execution_count": 1,
   "id": "85c74426",
   "metadata": {},
   "outputs": [],
   "source": [
    "def dictionary(list1,list2):\n",
    "    list1 = []\n",
    "    list2 = []\n",
    "    for dictionary in list():\n",
    "        list1.extend(list2)\n",
    "        return list"
   ]
  },
  {
   "cell_type": "code",
   "execution_count": 31,
   "id": "f7dffde9",
   "metadata": {},
   "outputs": [
    {
     "ename": "SyntaxError",
     "evalue": "invalid syntax (2180051380.py, line 3)",
     "output_type": "error",
     "traceback": [
      "\u001b[1;36m  File \u001b[1;32m\"C:\\Users\\User\\AppData\\Local\\Temp\\ipykernel_13752\\2180051380.py\"\u001b[1;36m, line \u001b[1;32m3\u001b[0m\n\u001b[1;33m    print list1.extend(list2)\u001b[0m\n\u001b[1;37m          ^\u001b[0m\n\u001b[1;31mSyntaxError\u001b[0m\u001b[1;31m:\u001b[0m invalid syntax\n"
     ]
    }
   ],
   "source": [
    "list1 = ['kemi','fola','yemi','titi']\n",
    "list2 = ['lawal','wasiu','bimbo']\n",
    "print list1.extend(list2)"
   ]
  },
  {
   "cell_type": "code",
   "execution_count": 20,
   "id": "a314a470",
   "metadata": {},
   "outputs": [],
   "source": [
    "def switch_it_up(number):\n",
    "        if number == 0:\n",
    "            return 'zero'\n",
    "        elif number== 1:\n",
    "            return  'one'\n",
    "        elif number == 2:\n",
    "            return 'two'\n",
    "        elif number == 3:\n",
    "            return 'three'\n",
    "        elif number == 4:\n",
    "            return 'four'\n",
    "        elif number == 5:\n",
    "            return 'five'\n",
    "        elif number == 6:\n",
    "             return 'six'\n",
    "        elif number == 7:\n",
    "            return 'seven'\n",
    "        elif number == 8:\n",
    "            return 'eight'"
   ]
  },
  {
   "cell_type": "code",
   "execution_count": 23,
   "id": "6529cfd3",
   "metadata": {},
   "outputs": [
    {
     "name": "stdout",
     "output_type": "stream",
     "text": [
      "six\n"
     ]
    }
   ],
   "source": [
    "result = switch_it_up(6)\n",
    "print(result)"
   ]
  },
  {
   "cell_type": "code",
   "execution_count": null,
   "id": "683be7e1",
   "metadata": {},
   "outputs": [],
   "source": [
    "#  create method for the calculator class that can do the following \n",
    "# add two numbers\n",
    "# subtract two numbers\n",
    "# multiply two numbers\n",
    "# divide two numbers"
   ]
  },
  {
   "cell_type": "code",
   "execution_count": null,
   "id": "470a4dc5",
   "metadata": {},
   "outputs": [],
   "source": [
    "#  given an int,figure out how many ones threes and nines you could fit into the number. you must create a class. you will make variables self.ones self.threes , self.nines to do this."
   ]
  },
  {
   "cell_type": "code",
   "execution_count": 3,
   "id": "1ccb06ba",
   "metadata": {},
   "outputs": [],
   "source": [
    "class method:\n",
    "    def __init__(self ,\n",
    "                 addition, subtraction ,\n",
    "                 multiplication,\n",
    "                 division):\n",
    "        \n",
    "        self.addition = addition\n",
    "        self.subtraction = subtraction\n",
    "        self.multiplication = multiplication \n",
    "        self.division\n",
    "        \n"
   ]
  },
  {
   "cell_type": "code",
   "execution_count": null,
   "id": "3508b99d",
   "metadata": {},
   "outputs": [],
   "source": [
    "class method:\n",
    "    def  add(self , num1 , num2)\n",
    "       return num1 + num2\n",
    "    def  substract(self, num1 , num2)\n",
    "       return num1 - num2\n",
    "    def  muluply(self, num1 , num2)\n",
    "       return  num1 * num2\n",
    "    def  divide(self , )"
   ]
  },
  {
   "cell_type": "code",
   "execution_count": null,
   "id": "2fed1a79",
   "metadata": {},
   "outputs": [],
   "source": []
  }
 ],
 "metadata": {
  "kernelspec": {
   "display_name": "Python 3 (ipykernel)",
   "language": "python",
   "name": "python3"
  },
  "language_info": {
   "codemirror_mode": {
    "name": "ipython",
    "version": 3
   },
   "file_extension": ".py",
   "mimetype": "text/x-python",
   "name": "python",
   "nbconvert_exporter": "python",
   "pygments_lexer": "ipython3",
   "version": "3.9.13"
  }
 },
 "nbformat": 4,
 "nbformat_minor": 5
}
